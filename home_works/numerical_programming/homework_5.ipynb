{
 "cells": [
  {
   "cell_type": "code",
   "id": "initial_id",
   "metadata": {
    "collapsed": true,
    "ExecuteTime": {
     "end_time": "2025-09-29T22:03:20.355981Z",
     "start_time": "2025-09-29T22:03:20.351695Z"
    }
   },
   "source": [
    "import numpy as np\n",
    "\n",
    "sample_np = np.random.rand(100, 2)\n",
    "sample_np.shape"
   ],
   "outputs": [
    {
     "data": {
      "text/plain": [
       "(100, 2)"
      ]
     },
     "execution_count": 183,
     "metadata": {},
     "output_type": "execute_result"
    }
   ],
   "execution_count": 183
  },
  {
   "metadata": {
    "ExecuteTime": {
     "end_time": "2025-09-29T22:03:20.586294Z",
     "start_time": "2025-09-29T22:03:20.584057Z"
    }
   },
   "cell_type": "code",
   "source": [
    "from sympy import symbols\n",
    "\n",
    "\n",
    "def polynomial():\n",
    "    x1 = symbols('x1')\n",
    "    x2 = symbols('x2')\n",
    "    return 4*x1**2 + 5*x2**2 + 2*x1*x2 + 3*x1 - 6*x2"
   ],
   "id": "51efeb8f699f08e8",
   "outputs": [],
   "execution_count": 184
  },
  {
   "metadata": {
    "ExecuteTime": {
     "end_time": "2025-09-29T22:03:20.599Z",
     "start_time": "2025-09-29T22:03:20.596171Z"
    }
   },
   "cell_type": "code",
   "source": [
    "from sklearn.preprocessing import PolynomialFeatures\n",
    "from sympy import Poly, lambdify\n",
    "\n",
    "\n",
    "def polynomial_regression_gradient_descent(features: np.ndarray, poloinomial_func, learning_rate: float, epochs: int):\n",
    "    # Визначаємо степінь полінома з символьного виразу\n",
    "    ploinomial_rate = Poly(poloinomial_func).total_degree()\n",
    "\n",
    "    # Готуємо ціль як значення полінома на даних\n",
    "    x1, x2 = symbols('x1 x2')\n",
    "    f = lambdify((x1, x2), poloinomial_func, modules='numpy')\n",
    "    y = f(features[:, 0], features[:, 1]).astype(float).reshape(-1)  # (m,)\n",
    "\n",
    "    # Узгоджено генеруємо поліноміальні ознаки у train\n",
    "    poly = PolynomialFeatures(degree=ploinomial_rate, include_bias=True)\n",
    "    X_poly = poly.fit_transform(features)  # (m, p)\n",
    "    m, p = X_poly.shape\n",
    "\n",
    "    # Ключова правка: довжина theta дорівнює кількості колонок у X_poly\n",
    "    theta = np.zeros(p, dtype=float)\n",
    "\n",
    "    for _ in range(epochs):\n",
    "        y_pred = X_poly @ theta          # (m,)\n",
    "        error = y_pred - y               # (m,)\n",
    "        gradient = (2.0 / m) * (X_poly.T @ error)  # (p,)\n",
    "        theta -= learning_rate * gradient\n",
    "\n",
    "    return theta"
   ],
   "id": "adc76f33c4457afb",
   "outputs": [],
   "execution_count": 185
  },
  {
   "metadata": {
    "ExecuteTime": {
     "end_time": "2025-09-29T22:03:20.604816Z",
     "start_time": "2025-09-29T22:03:20.601889Z"
    }
   },
   "cell_type": "code",
   "source": [
    "def polynomial_regression_SGD(features: np.ndarray, poloinomial_func, learning_rate: float, epochs: int, shuffle: bool = True):\n",
    "    # 1) Цільові значення з символічного полінома\n",
    "    x1, x2 = symbols('x1 x2')\n",
    "    f = lambdify((x1, x2), poloinomial_func, modules='numpy')\n",
    "    y = f(features[:, 0], features[:, 1]).astype(float).reshape(-1)  # (m,)\n",
    "\n",
    "    # 2) Поліноміальні ознаки узгоджено з іншими функціями\n",
    "    ploinomial_rate = Poly(poloinomial_func).total_degree()\n",
    "    poly = PolynomialFeatures(degree=ploinomial_rate, include_bias=True)\n",
    "    X_poly = poly.fit_transform(features)  # (m, p)\n",
    "    m, p = X_poly.shape\n",
    "\n",
    "    # 3) Ініціалізація ваг\n",
    "    theta = np.zeros(p, dtype=float)\n",
    "\n",
    "    # 4) Класичний SGD: обхід по зразках\n",
    "    for _ in range(epochs):\n",
    "        if shuffle:\n",
    "            perm = np.random.permutation(m)\n",
    "            X_poly_epoch = X_poly[perm]\n",
    "            y_epoch = y[perm]\n",
    "        else:\n",
    "            X_poly_epoch = X_poly\n",
    "            y_epoch = y\n",
    "\n",
    "        for i in range(m):\n",
    "            xi = X_poly_epoch[i]          # (p,)\n",
    "            yi = y_epoch[i]               # scalar\n",
    "            y_pred_i = xi @ theta         # scalar\n",
    "            error_i = y_pred_i - yi       # scalar\n",
    "            grad_i = 2.0 * xi * error_i   # (p,)\n",
    "            theta -= learning_rate * grad_i\n",
    "\n",
    "    return theta\n"
   ],
   "id": "75448e384de68249",
   "outputs": [],
   "execution_count": 186
  },
  {
   "metadata": {
    "ExecuteTime": {
     "end_time": "2025-09-29T22:03:20.609888Z",
     "start_time": "2025-09-29T22:03:20.607297Z"
    }
   },
   "cell_type": "code",
   "source": [
    "def polynomial_regression_rmsprop(features: np.ndarray, poloinomial_func, learning_rate: float, epochs: int, gamma = 0.9, epsilon = 1e-8):\n",
    "    # 1) Цільові значення з символічного полінома\n",
    "    x1, x2 = symbols('x1 x2')\n",
    "    f = lambdify((x1, x2), poloinomial_func, modules='numpy')\n",
    "    y = f(features[:, 0], features[:, 1]).astype(float).reshape(-1)  # (m,)\n",
    "\n",
    "    # 2) Поліноміальні ознаки узгоджено з іншими функціями (include_bias=True)\n",
    "    ploinomial_rate = Poly(poloinomial_func).total_degree()\n",
    "    poly = PolynomialFeatures(degree=ploinomial_rate, include_bias=True)\n",
    "    X_poly = poly.fit_transform(features)  # (m, p)\n",
    "    m, p = X_poly.shape\n",
    "\n",
    "    # 3) Ініціалізація ваг та накопичувача квадратів градієнтів\n",
    "    theta = np.zeros(p, dtype=float)\n",
    "    eg2 = np.zeros(p, dtype=float)\n",
    "\n",
    "    # 4) RMSProp із повним батчем\n",
    "    for _ in range(epochs):\n",
    "        y_pred = X_poly @ theta                 # (m,)\n",
    "        error = y_pred - y                      # (m,)\n",
    "        grad = (2.0 / m) * (X_poly.T @ error)   # (p,)\n",
    "\n",
    "        eg2 = gamma * eg2 + (1.0 - gamma) * (grad ** 2)     # (p,)\n",
    "        theta -= (learning_rate / (np.sqrt(eg2) + epsilon)) * grad\n",
    "\n",
    "    return theta"
   ],
   "id": "75321888651715c4",
   "outputs": [],
   "execution_count": 187
  },
  {
   "metadata": {
    "ExecuteTime": {
     "end_time": "2025-09-29T22:03:20.613592Z",
     "start_time": "2025-09-29T22:03:20.611895Z"
    }
   },
   "cell_type": "code",
   "source": [
    "def predict(X_input: np.ndarray, poloinomial_func, theta: np.ndarray):\n",
    "    # Та сама логіка PolynomialFeatures, що і в train\n",
    "    ploinomial_rate = Poly(poloinomial_func).total_degree()\n",
    "    poly = PolynomialFeatures(degree=ploinomial_rate, include_bias=True)\n",
    "    X_poly = poly.fit_transform(X_input)  # Порядок і набір ознак детерміновані degree і n_features\n",
    "    return X_poly @ theta\n",
    "\n"
   ],
   "id": "934cd6bd3e235b47",
   "outputs": [],
   "execution_count": 188
  },
  {
   "metadata": {
    "ExecuteTime": {
     "end_time": "2025-09-29T22:03:20.617339Z",
     "start_time": "2025-09-29T22:03:20.615751Z"
    }
   },
   "cell_type": "code",
   "source": [
    "def actual_vals(X_input: np.ndarray, poloinomial_func):\n",
    "    x1, x2 = symbols('x1 x2')\n",
    "    polynomial = lambdify((x1, x2), poloinomial_func, modules='numpy')\n",
    "    return polynomial(X_input[:, 0], X_input[:, 1])"
   ],
   "id": "7a32cd8c0d34293e",
   "outputs": [],
   "execution_count": 189
  },
  {
   "metadata": {
    "ExecuteTime": {
     "end_time": "2025-09-29T22:03:20.652496Z",
     "start_time": "2025-09-29T22:03:20.620865Z"
    }
   },
   "cell_type": "code",
   "source": [
    "test_np = np.random.rand(10, 2)\n",
    "pol_func = polynomial()\n",
    "pred_gd = predict(test_np, pol_func, polynomial_regression_gradient_descent(sample_np, pol_func, 0.1, 10000))\n",
    "pred_gd"
   ],
   "id": "f3779d83440cf1fa",
   "outputs": [
    {
     "data": {
      "text/plain": [
       "array([ 0.9312045 ,  1.18898098,  0.53067088,  4.38903224,  4.45750542,\n",
       "        4.72301814, -0.99459076,  4.13752696, -0.79096251,  6.86920502])"
      ]
     },
     "execution_count": 190,
     "metadata": {},
     "output_type": "execute_result"
    }
   ],
   "execution_count": 190
  },
  {
   "metadata": {
    "ExecuteTime": {
     "end_time": "2025-09-29T22:03:20.717313Z",
     "start_time": "2025-09-29T22:03:20.657949Z"
    }
   },
   "cell_type": "code",
   "source": [
    "pred_rmsprop = predict(test_np, pol_func, polynomial_regression_rmsprop(sample_np, pol_func, 0.02, 10000))\n",
    "pred_rmsprop"
   ],
   "id": "e7c3f3ec54d0f36",
   "outputs": [
    {
     "data": {
      "text/plain": [
       "array([ 0.94855695,  1.2224301 ,  0.54737012,  4.41723507,  4.4872999 ,\n",
       "        4.75467221, -0.97633528,  4.16419854, -0.77211814,  6.93206886])"
      ]
     },
     "execution_count": 191,
     "metadata": {},
     "output_type": "execute_result"
    }
   ],
   "execution_count": 191
  },
  {
   "metadata": {
    "ExecuteTime": {
     "end_time": "2025-09-29T22:03:23.228880Z",
     "start_time": "2025-09-29T22:03:20.722244Z"
    }
   },
   "cell_type": "code",
   "source": [
    "pred_sgd = predict(test_np, pol_func, polynomial_regression_SGD(sample_np, pol_func, 0.1, 10000))\n",
    "pred_sgd"
   ],
   "id": "cabeb6c3a277bda6",
   "outputs": [
    {
     "data": {
      "text/plain": [
       "array([ 0.9321868 ,  1.18678361,  0.52966238,  4.39038299,  4.45772663,\n",
       "        4.72342086, -0.99561382,  4.13906156, -0.79326384,  6.87639064])"
      ]
     },
     "execution_count": 192,
     "metadata": {},
     "output_type": "execute_result"
    }
   ],
   "execution_count": 192
  },
  {
   "metadata": {
    "ExecuteTime": {
     "end_time": "2025-09-29T22:03:24.065670Z",
     "start_time": "2025-09-29T22:03:24.062198Z"
    }
   },
   "cell_type": "code",
   "source": [
    "actual = actual_vals(test_np, pol_func)\n",
    "actual"
   ],
   "id": "24ee672e9d127c7c",
   "outputs": [
    {
     "data": {
      "text/plain": [
       "array([ 0.9321868 ,  1.18678361,  0.52966238,  4.39038299,  4.45772663,\n",
       "        4.72342086, -0.99561382,  4.13906156, -0.79326384,  6.87639064])"
      ]
     },
     "execution_count": 193,
     "metadata": {},
     "output_type": "execute_result"
    }
   ],
   "execution_count": 193
  }
 ],
 "metadata": {
  "kernelspec": {
   "display_name": "Python 3",
   "language": "python",
   "name": "python3"
  },
  "language_info": {
   "codemirror_mode": {
    "name": "ipython",
    "version": 2
   },
   "file_extension": ".py",
   "mimetype": "text/x-python",
   "name": "python",
   "nbconvert_exporter": "python",
   "pygments_lexer": "ipython2",
   "version": "2.7.6"
  }
 },
 "nbformat": 4,
 "nbformat_minor": 5
}
