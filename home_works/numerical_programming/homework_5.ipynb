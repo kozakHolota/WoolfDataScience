{
 "cells": [
  {
   "cell_type": "code",
   "id": "initial_id",
   "metadata": {
    "collapsed": true,
    "ExecuteTime": {
     "end_time": "2025-09-29T08:25:38.566304Z",
     "start_time": "2025-09-29T08:25:38.563695Z"
    }
   },
   "source": [
    "import numpy as np\n",
    "\n",
    "sample_np = np.random.rand(100, 2)\n",
    "sample_np.shape"
   ],
   "outputs": [
    {
     "data": {
      "text/plain": [
       "(100, 2)"
      ]
     },
     "execution_count": 92,
     "metadata": {},
     "output_type": "execute_result"
    }
   ],
   "execution_count": 92
  },
  {
   "metadata": {
    "ExecuteTime": {
     "end_time": "2025-09-29T08:25:38.583667Z",
     "start_time": "2025-09-29T08:25:38.581672Z"
    }
   },
   "cell_type": "code",
   "source": [
    "from sympy import symbols\n",
    "\n",
    "\n",
    "def polynomial():\n",
    "    x1 = symbols('x1')\n",
    "    x2 = symbols('x2')\n",
    "    return 4*x1**2 + 5*x2**2 + 2*x1*x2 + 3*x1 - 6*x2"
   ],
   "id": "d72d905f9edb23c3",
   "outputs": [],
   "execution_count": 93
  },
  {
   "metadata": {
    "ExecuteTime": {
     "end_time": "2025-09-29T08:25:38.598678Z",
     "start_time": "2025-09-29T08:25:38.595807Z"
    }
   },
   "cell_type": "code",
   "source": [
    "from sklearn.preprocessing import PolynomialFeatures\n",
    "from sympy import Poly, lambdify\n",
    "\n",
    "\n",
    "def polynomial_regression_gradient_descent(features: np.ndarray, poloinomial_func, learning_rate: float, epochs: int):\n",
    "    # Визначаємо степінь полінома з символьного виразу\n",
    "    ploinomial_rate = Poly(poloinomial_func).total_degree()\n",
    "\n",
    "    # Готуємо ціль як значення полінома на даних\n",
    "    x1, x2 = symbols('x1 x2')\n",
    "    f = lambdify((x1, x2), poloinomial_func, modules='numpy')\n",
    "    y = f(features[:, 0], features[:, 1]).astype(float).reshape(-1)  # (m,)\n",
    "\n",
    "    # Узгоджено генеруємо поліноміальні ознаки у train\n",
    "    poly = PolynomialFeatures(degree=ploinomial_rate, include_bias=True)\n",
    "    X_poly = poly.fit_transform(features)  # (m, p)\n",
    "    m, p = X_poly.shape\n",
    "\n",
    "    # Ключова правка: довжина theta дорівнює кількості колонок у X_poly\n",
    "    theta = np.zeros(p, dtype=float)\n",
    "\n",
    "    for _ in range(epochs):\n",
    "        y_pred = X_poly @ theta          # (m,)\n",
    "        error = y_pred - y               # (m,)\n",
    "        gradient = (2.0 / m) * (X_poly.T @ error)  # (p,)\n",
    "        theta -= learning_rate * gradient\n",
    "\n",
    "    return theta"
   ],
   "id": "ef9878764f666b9b",
   "outputs": [],
   "execution_count": 94
  },
  {
   "metadata": {
    "ExecuteTime": {
     "end_time": "2025-09-29T08:25:38.603184Z",
     "start_time": "2025-09-29T08:25:38.601448Z"
    }
   },
   "cell_type": "code",
   "source": [
    "def polynomial_regression_SGD(features: np.ndarray, poloinomial_func, learning_rate: float, epochs: int):\n",
    "    # Визначаємо степінь полінома з символьного виразу\n",
    "    ploinomial_rate = Poly(poloinomial_func).total_degree()\n",
    "    # Готуємо ціль як значення полінома на даних\n",
    "    x1, x2 = symbols('x1 x2')\n",
    "    f = lambdify((x1, x2), poloinomial_func, modules='numpy')\n",
    "    y = f(features[:, 0], features[:, 1]).astype(float).reshape(-1)  # (m,)\n",
    "\n",
    "    features_copy = features.copy()\n",
    "    theta = np.zeros(p, dtype=float)\n",
    "\n",
    "    for _ in range(epochs):\n",
    "       np.random.shuffle(features_copy)"
   ],
   "id": "276233f3f89b8f43",
   "outputs": [],
   "execution_count": 95
  },
  {
   "metadata": {
    "ExecuteTime": {
     "end_time": "2025-09-29T08:25:38.607377Z",
     "start_time": "2025-09-29T08:25:38.605664Z"
    }
   },
   "cell_type": "code",
   "source": [
    "def predict(X_input: np.ndarray, poloinomial_func, theta: np.ndarray):\n",
    "    # Та сама логіка PolynomialFeatures, що і в train\n",
    "    ploinomial_rate = Poly(poloinomial_func).total_degree()\n",
    "    poly = PolynomialFeatures(degree=ploinomial_rate, include_bias=True)\n",
    "    X_poly = poly.fit_transform(X_input)  # Порядок і набір ознак детерміновані degree і n_features\n",
    "    return X_poly @ theta\n",
    "\n"
   ],
   "id": "934cd6bd3e235b47",
   "outputs": [],
   "execution_count": 96
  },
  {
   "metadata": {
    "ExecuteTime": {
     "end_time": "2025-09-29T08:25:38.611975Z",
     "start_time": "2025-09-29T08:25:38.610266Z"
    }
   },
   "cell_type": "code",
   "source": [
    "def actual_vals(X_input: np.ndarray, poloinomial_func):\n",
    "    x1, x2 = symbols('x1 x2')\n",
    "    polynomial = lambdify((x1, x2), poloinomial_func, modules='numpy')\n",
    "    return polynomial(X_input[:, 0], X_input[:, 1])"
   ],
   "id": "7a32cd8c0d34293e",
   "outputs": [],
   "execution_count": 97
  },
  {
   "metadata": {
    "ExecuteTime": {
     "end_time": "2025-09-29T08:25:38.897002Z",
     "start_time": "2025-09-29T08:25:38.619132Z"
    }
   },
   "cell_type": "code",
   "source": [
    "test_np = np.random.rand(10, 2)\n",
    "pol_func = polynomial()\n",
    "pred = predict(test_np, pol_func, polynomial_regression_gradient_descent(sample_np, pol_func, 0.1, 100000))\n",
    "pred"
   ],
   "id": "f3779d83440cf1fa",
   "outputs": [
    {
     "data": {
      "text/plain": [
       "array([ 5.55003013,  6.41100536, -0.37786442, -1.37062557, -0.81200282,\n",
       "        1.37655649,  1.09986384,  1.29739874, -1.35670871,  2.92093165])"
      ]
     },
     "execution_count": 98,
     "metadata": {},
     "output_type": "execute_result"
    }
   ],
   "execution_count": 98
  },
  {
   "metadata": {
    "ExecuteTime": {
     "end_time": "2025-09-29T08:25:38.928197Z",
     "start_time": "2025-09-29T08:25:38.924830Z"
    }
   },
   "cell_type": "code",
   "source": [
    "actual = actual_vals(test_np, pol_func)\n",
    "actual"
   ],
   "id": "24ee672e9d127c7c",
   "outputs": [
    {
     "data": {
      "text/plain": [
       "array([ 5.55003013,  6.41100536, -0.37786442, -1.37062557, -0.81200282,\n",
       "        1.37655649,  1.09986384,  1.29739874, -1.35670871,  2.92093165])"
      ]
     },
     "execution_count": 99,
     "metadata": {},
     "output_type": "execute_result"
    }
   ],
   "execution_count": 99
  }
 ],
 "metadata": {
  "kernelspec": {
   "display_name": "Python 3",
   "language": "python",
   "name": "python3"
  },
  "language_info": {
   "codemirror_mode": {
    "name": "ipython",
    "version": 2
   },
   "file_extension": ".py",
   "mimetype": "text/x-python",
   "name": "python",
   "nbconvert_exporter": "python",
   "pygments_lexer": "ipython2",
   "version": "2.7.6"
  }
 },
 "nbformat": 4,
 "nbformat_minor": 5
}
