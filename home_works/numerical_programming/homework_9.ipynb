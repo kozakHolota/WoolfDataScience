{
 "cells": [
  {
   "metadata": {},
   "cell_type": "markdown",
   "source": [
    "# Власна реалізація метода QDA\n",
    "## Завантажимо дані"
   ],
   "id": "c2ae8bb4ec20caf8"
  },
  {
   "cell_type": "code",
   "id": "initial_id",
   "metadata": {
    "collapsed": true,
    "ExecuteTime": {
     "end_time": "2025-10-11T19:21:55.809070Z",
     "start_time": "2025-10-11T19:21:55.785162Z"
    }
   },
   "source": [
    "import numpy as np\n",
    "import pandas as pd\n",
    "from sklearn.datasets import load_iris\n",
    "\n",
    "iris = load_iris()\n",
    "data = pd.DataFrame(iris.data, columns=iris.feature_names)\n",
    "\n",
    "data.head()"
   ],
   "outputs": [
    {
     "data": {
      "text/plain": [
       "   sepal length (cm)  sepal width (cm)  petal length (cm)  petal width (cm)\n",
       "0                5.1               3.5                1.4               0.2\n",
       "1                4.9               3.0                1.4               0.2\n",
       "2                4.7               3.2                1.3               0.2\n",
       "3                4.6               3.1                1.5               0.2\n",
       "4                5.0               3.6                1.4               0.2"
      ],
      "text/html": [
       "<div>\n",
       "<style scoped>\n",
       "    .dataframe tbody tr th:only-of-type {\n",
       "        vertical-align: middle;\n",
       "    }\n",
       "\n",
       "    .dataframe tbody tr th {\n",
       "        vertical-align: top;\n",
       "    }\n",
       "\n",
       "    .dataframe thead th {\n",
       "        text-align: right;\n",
       "    }\n",
       "</style>\n",
       "<table border=\"1\" class=\"dataframe\">\n",
       "  <thead>\n",
       "    <tr style=\"text-align: right;\">\n",
       "      <th></th>\n",
       "      <th>sepal length (cm)</th>\n",
       "      <th>sepal width (cm)</th>\n",
       "      <th>petal length (cm)</th>\n",
       "      <th>petal width (cm)</th>\n",
       "    </tr>\n",
       "  </thead>\n",
       "  <tbody>\n",
       "    <tr>\n",
       "      <th>0</th>\n",
       "      <td>5.1</td>\n",
       "      <td>3.5</td>\n",
       "      <td>1.4</td>\n",
       "      <td>0.2</td>\n",
       "    </tr>\n",
       "    <tr>\n",
       "      <th>1</th>\n",
       "      <td>4.9</td>\n",
       "      <td>3.0</td>\n",
       "      <td>1.4</td>\n",
       "      <td>0.2</td>\n",
       "    </tr>\n",
       "    <tr>\n",
       "      <th>2</th>\n",
       "      <td>4.7</td>\n",
       "      <td>3.2</td>\n",
       "      <td>1.3</td>\n",
       "      <td>0.2</td>\n",
       "    </tr>\n",
       "    <tr>\n",
       "      <th>3</th>\n",
       "      <td>4.6</td>\n",
       "      <td>3.1</td>\n",
       "      <td>1.5</td>\n",
       "      <td>0.2</td>\n",
       "    </tr>\n",
       "    <tr>\n",
       "      <th>4</th>\n",
       "      <td>5.0</td>\n",
       "      <td>3.6</td>\n",
       "      <td>1.4</td>\n",
       "      <td>0.2</td>\n",
       "    </tr>\n",
       "  </tbody>\n",
       "</table>\n",
       "</div>"
      ]
     },
     "execution_count": 176,
     "metadata": {},
     "output_type": "execute_result"
    }
   ],
   "execution_count": 176
  },
  {
   "metadata": {},
   "cell_type": "markdown",
   "source": "## Розділимо дані на тренувальні та тестові",
   "id": "318f486b65444551"
  },
  {
   "metadata": {
    "ExecuteTime": {
     "end_time": "2025-10-11T19:21:55.848291Z",
     "start_time": "2025-10-11T19:21:55.837381Z"
    }
   },
   "cell_type": "code",
   "source": [
    "from sklearn.model_selection import train_test_split\n",
    "\n",
    "# 1) Розбиття даних один раз\n",
    "target = \"sepal length (cm)\"\n",
    "X_full = data.drop(columns=[target])\n",
    "y_full = data[target]\n",
    "X_train, X_test, y_train, y_test = train_test_split(X_full, y_full, test_size=0.3, random_state=4)\n",
    "\n",
    "df_train = pd.concat([X_train.reset_index(drop=True), y_train.reset_index(drop=True)], axis=1)\n",
    "df_test = pd.concat([X_test.reset_index(drop=True), y_test.reset_index(drop=True)], axis=1)"
   ],
   "id": "9dde71aa240eb1c9",
   "outputs": [],
   "execution_count": 177
  },
  {
   "metadata": {},
   "cell_type": "markdown",
   "source": "## Визначимо функцію апріорної вірогідності",
   "id": "f9188be62a636bb0"
  },
  {
   "metadata": {
    "ExecuteTime": {
     "end_time": "2025-10-11T19:21:55.943919Z",
     "start_time": "2025-10-11T19:21:55.942147Z"
    }
   },
   "cell_type": "code",
   "source": [
    "def prior_probability(y: pd.Series, class_value) -> float:\n",
    "    y = pd.Series(y)\n",
    "    return (y == class_value).mean()"
   ],
   "id": "80737f4b37c12e6a",
   "outputs": [],
   "execution_count": 178
  },
  {
   "metadata": {},
   "cell_type": "markdown",
   "source": "## Визначимо функцію вирівнювання векторів",
   "id": "4ed74eebe966b135"
  },
  {
   "metadata": {
    "ExecuteTime": {
     "end_time": "2025-10-11T19:21:55.965511Z",
     "start_time": "2025-10-11T19:21:55.963337Z"
    }
   },
   "cell_type": "code",
   "source": [
    "def _ensure_aligned(X: pd.DataFrame, y: pd.Series) -> tuple[pd.DataFrame, pd.Series]:\n",
    "    if len(X) != len(y):\n",
    "        raise ValueError(f\"X і y мають різну довжину: len(X)={len(X)}, len(y)={len(y)}\")\n",
    "    if not X.index.equals(y.index):\n",
    "        X = X.reset_index(drop=True)\n",
    "        y = y.reset_index(drop=True)\n",
    "    return X, y"
   ],
   "id": "faaa67251a678dcc",
   "outputs": [],
   "execution_count": 179
  },
  {
   "metadata": {},
   "cell_type": "markdown",
   "source": "## Визначаємо функцію середнього класу",
   "id": "ad3062cb655d210"
  },
  {
   "metadata": {
    "ExecuteTime": {
     "end_time": "2025-10-11T19:21:55.985991Z",
     "start_time": "2025-10-11T19:21:55.983518Z"
    }
   },
   "cell_type": "code",
   "source": [
    "def class_mean(X: pd.DataFrame, y: pd.Series, class_value) -> np.ndarray:\n",
    "    X, y = _ensure_aligned(X, y)\n",
    "    mask = (y == class_value).to_numpy()\n",
    "    if mask.sum() == 0:\n",
    "        raise ValueError(f\"У класі '{class_value}' немає спостережень.\")\n",
    "    return X.to_numpy()[mask].mean(axis=0)"
   ],
   "id": "4058c9fdd22f821",
   "outputs": [],
   "execution_count": 180
  },
  {
   "metadata": {},
   "cell_type": "markdown",
   "source": "## Визначаємо функцію коваріації за класом",
   "id": "871372732a17988a"
  },
  {
   "metadata": {
    "ExecuteTime": {
     "end_time": "2025-10-11T19:21:55.991388Z",
     "start_time": "2025-10-11T19:21:55.989045Z"
    }
   },
   "cell_type": "code",
   "source": [
    "def class_cov(X: pd.DataFrame, y: pd.Series, class_value, reg: float = 1e-6) -> np.ndarray:\n",
    "    X, y = _ensure_aligned(X, y)\n",
    "    mask = (y == class_value).to_numpy()\n",
    "    if mask.sum() < 2:\n",
    "        raise ValueError(f\"Недостатньо спостережень для оцінки коваріації класу '{class_value}'.\")\n",
    "    Xc = X.to_numpy()[mask]\n",
    "    sigma = np.cov(Xc, rowvar=False, bias=False)\n",
    "    return sigma + reg * np.eye(sigma.shape[0])"
   ],
   "id": "e490a3a2bc86bff7",
   "outputs": [],
   "execution_count": 181
  },
  {
   "metadata": {},
   "cell_type": "markdown",
   "source": "## Визначаємо функцію лог-дискримінантних оцінок QDA",
   "id": "e51a2bd354b266d4"
  },
  {
   "metadata": {
    "ExecuteTime": {
     "end_time": "2025-10-11T19:21:55.996226Z",
     "start_time": "2025-10-11T19:21:55.994008Z"
    }
   },
   "cell_type": "code",
   "source": [
    "def qda_discriminant(x: np.ndarray, X: pd.DataFrame, y: pd.Series, class_value) -> float:\n",
    "    X, y = _ensure_aligned(X, y)\n",
    "    mu = class_mean(X, y, class_value)\n",
    "    sigma = class_cov(X, y, class_value)\n",
    "    sign, logdet = np.linalg.slogdet(sigma)\n",
    "    if sign <= 0:\n",
    "        eps = 1e-4\n",
    "        sigma = sigma + eps * np.eye(sigma.shape[0])\n",
    "        sign, logdet = np.linalg.slogdet(sigma)\n",
    "    invS = np.linalg.inv(sigma)\n",
    "    pi = prior_probability(y, class_value)\n",
    "    dx = x - mu\n",
    "    return -0.5 * logdet - 0.5 * float(dx.T @ invS @ dx) + np.log(pi)"
   ],
   "id": "66142fadfc9dd99c",
   "outputs": [],
   "execution_count": 182
  },
  {
   "metadata": {},
   "cell_type": "markdown",
   "source": "## Визначаємо функцію розпаковки даних за певним класом",
   "id": "da01b8358463a8"
  },
  {
   "metadata": {
    "ExecuteTime": {
     "end_time": "2025-10-11T19:21:56.000576Z",
     "start_time": "2025-10-11T19:21:55.998559Z"
    }
   },
   "cell_type": "code",
   "source": [
    "def get_feature(df: pd.DataFrame, class_name: str, index: int) -> tuple:\n",
    "    # ВАЖЛИВО: y беремо з того ж df\n",
    "    X = df.drop(columns=[class_name])\n",
    "    y = df[class_name]\n",
    "    x_n = X.iloc[index].to_numpy()\n",
    "    # Для QDA class_value має бути значенням класу, а не назвою стовпця.\n",
    "    # У вашому прикладі target — це безперервна змінна (довжина чашолистка),\n",
    "    # QDA має сенс для дискретних класів. Для демонстрації візьмемо бінінг:\n",
    "    class_value = (y <= y.median()).iloc[0]  # лише приклад, зазвичай потрібна категоріальна\n",
    "    return x_n, X, (y <= y.median()), class_value  # порядок під qda_discriminant(x, X, y, ...)"
   ],
   "id": "dbb812a39cd4c805",
   "outputs": [],
   "execution_count": 183
  },
  {
   "metadata": {},
   "cell_type": "markdown",
   "source": "## Функція розпаковки усіх класів за рядком",
   "id": "2b446db665ae88e3"
  },
  {
   "metadata": {
    "ExecuteTime": {
     "end_time": "2025-10-11T19:21:56.008909Z",
     "start_time": "2025-10-11T19:21:56.007096Z"
    }
   },
   "cell_type": "code",
   "source": [
    "def all_features(df: pd.DataFrame, index: int)->dict:\n",
    "    columns = df.columns\n",
    "    return {column: get_feature(df, column, index) for column in columns}"
   ],
   "id": "30ef51a355c0f282",
   "outputs": [],
   "execution_count": 184
  },
  {
   "metadata": {
    "ExecuteTime": {
     "end_time": "2025-10-11T19:21:56.019985Z",
     "start_time": "2025-10-11T19:21:56.013274Z"
    }
   },
   "cell_type": "code",
   "source": [
    "features = all_features(df=df_train, index=0)\n",
    "features[list(features.keys())[0]]"
   ],
   "id": "7a08134205f8ec1b",
   "outputs": [
    {
     "data": {
      "text/plain": [
       "(array([1.1, 0.1, 4.3]),\n",
       "      petal length (cm)  petal width (cm)  sepal length (cm)\n",
       " 0                  1.1               0.1                4.3\n",
       " 1                  1.5               0.4                5.7\n",
       " 2                  4.2               1.5                5.9\n",
       " 3                  4.6               1.4                6.1\n",
       " 4                  5.5               1.8                6.5\n",
       " ..                 ...               ...                ...\n",
       " 100                4.7               1.4                7.0\n",
       " 101                4.4               1.3                6.3\n",
       " 102                5.8               2.2                6.5\n",
       " 103                5.8               1.6                7.2\n",
       " 104                6.7               2.0                7.7\n",
       " \n",
       " [105 rows x 3 columns],\n",
       " 0       True\n",
       " 1      False\n",
       " 2       True\n",
       " 3       True\n",
       " 4       True\n",
       "        ...  \n",
       " 100    False\n",
       " 101     True\n",
       " 102     True\n",
       " 103     True\n",
       " 104     True\n",
       " Name: sepal width (cm), Length: 105, dtype: bool,\n",
       " np.True_)"
      ]
     },
     "execution_count": 185,
     "metadata": {},
     "output_type": "execute_result"
    }
   ],
   "execution_count": 185
  },
  {
   "metadata": {
    "ExecuteTime": {
     "end_time": "2025-10-11T19:21:56.035372Z",
     "start_time": "2025-10-11T19:21:56.031695Z"
    }
   },
   "cell_type": "code",
   "source": [
    "# Обчислення дискримінанту для одного спостереження з train\n",
    "qda_discriminant(*get_feature(df_train, target, 0))"
   ],
   "id": "38d51d0559cfe9d1",
   "outputs": [
    {
     "data": {
      "text/plain": [
       "np.float64(0.14548019233202947)"
      ]
     },
     "execution_count": 186,
     "metadata": {},
     "output_type": "execute_result"
    }
   ],
   "execution_count": 186
  },
  {
   "metadata": {},
   "cell_type": "markdown",
   "source": "## Випробуємо дискримінантну функцію на одному рядку",
   "id": "5a9a32022398cc92"
  },
  {
   "metadata": {
    "ExecuteTime": {
     "end_time": "2025-10-11T19:21:56.055232Z",
     "start_time": "2025-10-11T19:21:56.052024Z"
    }
   },
   "cell_type": "code",
   "source": [
    "for feature in features:\n",
    "    disc = qda_discriminant(*features[feature])\n",
    "    print(feature, \":\", disc)"
   ],
   "id": "48c3f3853f430da3",
   "outputs": [
    {
     "name": "stdout",
     "output_type": "stream",
     "text": [
      "sepal width (cm) : -2.47593746930016\n",
      "petal length (cm) : -0.07607713925198711\n",
      "petal width (cm) : -0.7888480247104656\n",
      "sepal length (cm) : 0.14548019233202947\n"
     ]
    }
   ],
   "execution_count": 187
  },
  {
   "metadata": {},
   "cell_type": "markdown",
   "source": "## Тренуємо оцінки дискримінантною функцією та застосовуємо отримані оцінки до тестових даних",
   "id": "700018ecc847def1"
  },
  {
   "metadata": {
    "ExecuteTime": {
     "end_time": "2025-10-11T19:21:56.072080Z",
     "start_time": "2025-10-11T19:21:56.069036Z"
    }
   },
   "cell_type": "code",
   "source": [
    "def binarize_target_by_median(y: pd.Series) -> pd.Series:\n",
    "    med = y.median()\n",
    "    return (y <= med).astype(int)\n",
    "\n",
    "\n",
    "def qda_fit_using_train(df_train: pd.DataFrame, target_col: str):\n",
    "    X_train = df_train.drop(columns=[target_col])\n",
    "    y_train = binarize_target_by_median(df_train[target_col])\n",
    "    classes = sorted(y_train.unique())\n",
    "    return X_train, y_train, classes\n",
    "\n",
    "\n",
    "def qda_apply_with_fn(df_apply: pd.DataFrame, target_col: str, X_train: pd.DataFrame, y_train: pd.Series,\n",
    "                      classes) -> pd.DataFrame:\n",
    "    X_apply = df_apply.drop(columns=[target_col])\n",
    "    res = np.zeros((len(X_apply), len(classes)))\n",
    "    for i in range(len(X_apply)):\n",
    "        x_i = X_apply.iloc[i].to_numpy()\n",
    "        for j, c in enumerate(classes):\n",
    "            res[i, j] = qda_discriminant(x_i, X_train, y_train, c)\n",
    "    return pd.DataFrame(res, columns=[f\"class={c}\" for c in classes], index=df_apply.index)\n",
    "\n"
   ],
   "id": "ba0c2091c0ca20ce",
   "outputs": [],
   "execution_count": 188
  },
  {
   "metadata": {
    "ExecuteTime": {
     "end_time": "2025-10-11T19:21:56.264838Z",
     "start_time": "2025-10-11T19:21:56.083976Z"
    }
   },
   "cell_type": "code",
   "source": [
    "for target in df_train.columns:\n",
    "    # \"Навчання\" на train\n",
    "    Xtr, ytr, classes = qda_fit_using_train(df_train, target)\n",
    "\n",
    "    # Дискримінанти на train\n",
    "    G_train = qda_apply_with_fn(df_train, target, Xtr, ytr, classes)\n",
    "    G_train.head()\n",
    "\n",
    "    # Дискримінанти на test (параметри беруться з train)\n",
    "    G_test = qda_apply_with_fn(df_test, target, Xtr, ytr, classes)\n",
    "    print(target, \":\", G_test.mean(axis=0))"
   ],
   "id": "8fe2c224b557a947",
   "outputs": [
    {
     "name": "stdout",
     "output_type": "stream",
     "text": [
      "sepal width (cm) : class=0   -0.949562\n",
      "class=1   -1.643167\n",
      "dtype: float64\n",
      "petal length (cm) : class=0   -7.776761\n",
      "class=1   -1.435447\n",
      "dtype: float64\n",
      "petal width (cm) : class=0   -10.643952\n",
      "class=1    -1.782057\n",
      "dtype: float64\n",
      "sepal length (cm) : class=0   -9.104848\n",
      "class=1   -1.020227\n",
      "dtype: float64\n"
     ]
    }
   ],
   "execution_count": 189
  },
  {
   "metadata": {},
   "cell_type": "markdown",
   "source": "## Робимо те сае з QuadraticDiscriminantAnalysis() з sklearn.discriminant_analysis",
   "id": "1641327870ed6d0f"
  },
  {
   "metadata": {
    "ExecuteTime": {
     "end_time": "2025-10-11T19:33:20.517043Z",
     "start_time": "2025-10-11T19:33:20.484657Z"
    }
   },
   "cell_type": "code",
   "source": [
    "from sklearn.discriminant_analysis import QuadraticDiscriminantAnalysis\n",
    "\n",
    "for target in df_train.columns:\n",
    "    # підготовка train\n",
    "    Xtr = df_train.drop(columns=[target])\n",
    "    ytr = binarize_target_by_median(df_train[target])\n",
    "\n",
    "    # підготовка test\n",
    "    Xte = df_test.drop(columns=[target])\n",
    "    yte = binarize_target_by_median(df_test[target])\n",
    "    # навчання\n",
    "    qda = QuadraticDiscriminantAnalysis(store_covariance=True)\n",
    "    qda.fit(Xtr, ytr)\n",
    "\n",
    "    # лог-дискримінанти (аналог ваших g_c(x))\n",
    "    G_train = qda.decision_function(Xtr)  # shape (n_train, n_classes)\n",
    "    G_test  = qda.decision_function(Xte)\n",
    "\n",
    "    # ймовірності p(c|x)\n",
    "    P_train = qda.predict_proba(Xtr)\n",
    "    P_test  = qda.predict_proba(Xte)\n",
    "\n",
    "    # передбачені класи\n",
    "    yhat_train = qda.predict(Xtr)\n",
    "    yhat_test  = qda.predict(Xte)\n",
    "\n",
    "    print(P_test, \":\", P_test.mean(axis=0))"
   ],
   "id": "7fed1fcacbe6d1be",
   "outputs": [
    {
     "name": "stdout",
     "output_type": "stream",
     "text": [
      "[[2.42659129e-01 7.57340871e-01]\n",
      " [9.98589104e-01 1.41089645e-03]\n",
      " [1.00697433e-01 8.99302567e-01]\n",
      " [8.65101524e-02 9.13489848e-01]\n",
      " [9.68694445e-03 9.90313056e-01]\n",
      " [1.27880126e-01 8.72119874e-01]\n",
      " [1.25346550e-02 9.87465345e-01]\n",
      " [9.99937483e-01 6.25171740e-05]\n",
      " [9.94531355e-01 5.46864548e-03]\n",
      " [1.74278291e-02 9.82572171e-01]\n",
      " [9.51843147e-01 4.81568535e-02]\n",
      " [8.49199723e-01 1.50800277e-01]\n",
      " [9.36581375e-01 6.34186246e-02]\n",
      " [3.29565259e-02 9.67043474e-01]\n",
      " [1.32466930e-01 8.67533070e-01]\n",
      " [9.53967618e-01 4.60323817e-02]\n",
      " [8.08412198e-03 9.91915878e-01]\n",
      " [9.55812077e-01 4.41879230e-02]\n",
      " [3.91331678e-01 6.08668322e-01]\n",
      " [3.32876839e-01 6.67123161e-01]\n",
      " [9.95865974e-01 4.13402634e-03]\n",
      " [3.37726922e-01 6.62273078e-01]\n",
      " [2.43444079e-01 7.56555921e-01]\n",
      " [9.73300235e-01 2.66997653e-02]\n",
      " [7.46631981e-01 2.53368019e-01]\n",
      " [9.89073413e-01 1.09265870e-02]\n",
      " [8.91534128e-01 1.08465872e-01]\n",
      " [9.99250276e-01 7.49724056e-04]\n",
      " [9.90915099e-01 9.08490136e-03]\n",
      " [6.82052138e-02 9.31794786e-01]\n",
      " [1.00049747e-02 9.89995025e-01]\n",
      " [8.56955557e-01 1.43044443e-01]\n",
      " [2.45400070e-02 9.75459993e-01]\n",
      " [9.75327611e-01 2.46723885e-02]\n",
      " [2.79072088e-02 9.72092791e-01]\n",
      " [8.11492323e-01 1.88507677e-01]\n",
      " [4.07768084e-02 9.59223192e-01]\n",
      " [1.00411707e-01 8.99588293e-01]\n",
      " [4.19454398e-01 5.80545602e-01]\n",
      " [9.73193192e-01 2.68068084e-02]\n",
      " [7.61309026e-01 2.38690974e-01]\n",
      " [9.74497682e-01 2.55023183e-02]\n",
      " [6.30687526e-01 3.69312474e-01]\n",
      " [9.97423035e-01 2.57696518e-03]\n",
      " [3.87204888e-01 6.12795112e-01]] : [0.5413935 0.4586065]\n",
      "[[9.96290961e-01 3.70903879e-03]\n",
      " [4.75257550e-09 9.99999995e-01]\n",
      " [9.97059317e-01 2.94068279e-03]\n",
      " [9.99619360e-01 3.80640497e-04]\n",
      " [9.97282750e-01 2.71725039e-03]\n",
      " [7.57696182e-01 2.42303818e-01]\n",
      " [7.77116263e-01 2.22883737e-01]\n",
      " [8.92767637e-11 1.00000000e+00]\n",
      " [5.51068333e-10 9.99999999e-01]\n",
      " [7.71238791e-01 2.28761209e-01]\n",
      " [2.70709670e-06 9.99997293e-01]\n",
      " [2.96014907e-09 9.99999997e-01]\n",
      " [3.84179778e-07 9.99999616e-01]\n",
      " [6.01438452e-01 3.98561548e-01]\n",
      " [9.89391995e-01 1.06080053e-02]\n",
      " [3.71311329e-07 9.99999629e-01]\n",
      " [3.70193479e-02 9.62980652e-01]\n",
      " [3.57374001e-08 9.99999964e-01]\n",
      " [2.96014907e-09 9.99999997e-01]\n",
      " [9.19659097e-01 8.03409025e-02]\n",
      " [1.56455028e-07 9.99999844e-01]\n",
      " [9.99908060e-01 9.19402621e-05]\n",
      " [2.45017404e-01 7.54982596e-01]\n",
      " [1.11404391e-07 9.99999889e-01]\n",
      " [3.57374001e-08 9.99999964e-01]\n",
      " [1.12117727e-10 1.00000000e+00]\n",
      " [1.00336730e-03 9.98996633e-01]\n",
      " [5.51068333e-10 9.99999999e-01]\n",
      " [1.18204229e-07 9.99999882e-01]\n",
      " [9.92090697e-01 7.90930250e-03]\n",
      " [9.39000656e-01 6.09993441e-02]\n",
      " [2.49452130e-08 9.99999975e-01]\n",
      " [8.05996095e-01 1.94003905e-01]\n",
      " [1.48267222e-06 9.99998517e-01]\n",
      " [4.34899732e-02 9.56510027e-01]\n",
      " [9.99999860e-01 1.39769865e-07]\n",
      " [9.98410513e-01 1.58948673e-03]\n",
      " [2.02489105e-01 7.97510895e-01]\n",
      " [9.44850542e-01 5.51494582e-02]\n",
      " [1.97776724e-11 1.00000000e+00]\n",
      " [9.99791612e-01 2.08388207e-04]\n",
      " [7.75973953e-09 9.99999992e-01]\n",
      " [9.18210647e-01 8.17893532e-02]\n",
      " [7.54929395e-10 9.99999999e-01]\n",
      " [9.98721116e-01 1.27888377e-03]] : [0.42072884 0.57927116]\n",
      "[[9.75747095e-01 2.42529053e-02]\n",
      " [5.35049791e-12 1.00000000e+00]\n",
      " [9.97304075e-01 2.69592503e-03]\n",
      " [9.99609029e-01 3.90971477e-04]\n",
      " [9.97549702e-01 2.45029836e-03]\n",
      " [7.82028144e-01 2.17971856e-01]\n",
      " [9.18619920e-01 8.13800799e-02]\n",
      " [4.51419780e-16 1.00000000e+00]\n",
      " [4.44451805e-12 1.00000000e+00]\n",
      " [9.27695641e-01 7.23043587e-02]\n",
      " [1.59978324e-08 9.99999984e-01]\n",
      " [1.61881860e-09 9.99999998e-01]\n",
      " [3.50073754e-09 9.99999996e-01]\n",
      " [8.77683344e-01 1.22316656e-01]\n",
      " [8.18007578e-01 1.81992422e-01]\n",
      " [3.09838594e-09 9.99999997e-01]\n",
      " [4.34614745e-02 9.56538526e-01]\n",
      " [2.93293590e-10 1.00000000e+00]\n",
      " [8.33372333e-08 9.99999917e-01]\n",
      " [8.18325090e-01 1.81674910e-01]\n",
      " [3.14206309e-11 1.00000000e+00]\n",
      " [9.99570050e-01 4.29950075e-04]\n",
      " [3.34933649e-01 6.65066351e-01]\n",
      " [5.42736368e-10 9.99999999e-01]\n",
      " [1.15951129e-08 9.99999988e-01]\n",
      " [2.71879013e-12 1.00000000e+00]\n",
      " [1.29211239e-06 9.99998708e-01]\n",
      " [1.30777443e-14 1.00000000e+00]\n",
      " [5.44308193e-10 9.99999999e-01]\n",
      " [9.60511892e-01 3.94881083e-02]\n",
      " [9.93308742e-01 6.69125778e-03]\n",
      " [1.78870721e-09 9.99999998e-01]\n",
      " [8.02868545e-01 1.97131455e-01]\n",
      " [2.65792785e-09 9.99999997e-01]\n",
      " [3.93906012e-02 9.60609399e-01]\n",
      " [9.99570050e-01 4.29950075e-04]\n",
      " [9.99581557e-01 4.18443124e-04]\n",
      " [1.96135974e-01 8.03864026e-01]\n",
      " [9.34634661e-01 6.53653385e-02]\n",
      " [1.20440408e-11 1.00000000e+00]\n",
      " [9.99856298e-01 1.43701611e-04]\n",
      " [1.54702285e-10 1.00000000e+00]\n",
      " [8.25175406e-01 1.74824594e-01]\n",
      " [2.07638897e-12 1.00000000e+00]\n",
      " [9.75747095e-01 2.42529053e-02]] : [0.42705149 0.57294851]\n",
      "[[9.43386245e-01 5.66137554e-02]\n",
      " [3.17789361e-11 1.00000000e+00]\n",
      " [9.94494775e-01 5.50522504e-03]\n",
      " [9.99554597e-01 4.45403452e-04]\n",
      " [9.99787377e-01 2.12623216e-04]\n",
      " [7.54260580e-01 2.45739420e-01]\n",
      " [9.12113841e-01 8.78861590e-02]\n",
      " [8.80703351e-15 1.00000000e+00]\n",
      " [1.52247831e-11 1.00000000e+00]\n",
      " [9.70786647e-01 2.92133530e-02]\n",
      " [2.50582084e-07 9.99999749e-01]\n",
      " [1.85135642e-09 9.99999998e-01]\n",
      " [5.01388506e-08 9.99999950e-01]\n",
      " [9.12141290e-01 8.78587095e-02]\n",
      " [6.34831401e-01 3.65168599e-01]\n",
      " [3.73873914e-08 9.99999963e-01]\n",
      " [1.51131394e-01 8.48868606e-01]\n",
      " [2.64029682e-09 9.99999997e-01]\n",
      " [2.75270075e-08 9.99999972e-01]\n",
      " [7.86665946e-01 2.13334054e-01]\n",
      " [1.38098451e-09 9.99999999e-01]\n",
      " [9.98667537e-01 1.33246300e-03]\n",
      " [2.23967148e-01 7.76032852e-01]\n",
      " [5.00425400e-09 9.99999995e-01]\n",
      " [2.30678897e-08 9.99999977e-01]\n",
      " [5.60798095e-12 1.00000000e+00]\n",
      " [1.45613799e-04 9.99854386e-01]\n",
      " [7.42782850e-13 1.00000000e+00]\n",
      " [4.38617355e-09 9.99999996e-01]\n",
      " [8.29929650e-01 1.70070350e-01]\n",
      " [7.89518535e-01 2.10481465e-01]\n",
      " [5.23934798e-09 9.99999995e-01]\n",
      " [8.99477487e-01 1.00522513e-01]\n",
      " [6.48931339e-08 9.99999935e-01]\n",
      " [8.97790990e-02 9.10220901e-01]\n",
      " [9.99825882e-01 1.74118173e-04]\n",
      " [9.99842753e-01 1.57247278e-04]\n",
      " [3.65571434e-01 6.34428566e-01]\n",
      " [9.17475875e-01 8.25241250e-02]\n",
      " [7.90182817e-12 1.00000000e+00]\n",
      " [9.93862839e-01 6.13716083e-03]\n",
      " [8.11063404e-10 9.99999999e-01]\n",
      " [7.55833042e-01 2.44166958e-01]\n",
      " [1.29222861e-11 1.00000000e+00]\n",
      " [9.50034475e-01 4.99655253e-02]] : [0.41940191 0.58059809]\n"
     ]
    }
   ],
   "execution_count": 192
  },
  {
   "metadata": {},
   "cell_type": "markdown",
   "source": "## Порівнюємо отримані результати та виводимо статистику",
   "id": "29d241d12be0d4d"
  },
  {
   "metadata": {
    "ExecuteTime": {
     "end_time": "2025-10-11T19:42:27.351143Z",
     "start_time": "2025-10-11T19:42:27.156177Z"
    }
   },
   "cell_type": "code",
   "source": [
    "def our_scores(X_apply: pd.DataFrame) -> np.ndarray:\n",
    "    G = np.zeros((len(X_apply), len(classes)))\n",
    "    for i in range(len(X_apply)):\n",
    "        x_i = X_apply.iloc[i].to_numpy()\n",
    "        for j, c in enumerate(classes):\n",
    "            G[i, j] = qda_discriminant(x_i, Xtr, ytr, c)\n",
    "    return G\n",
    "\n",
    "def row_center(G: np.ndarray) -> np.ndarray:\n",
    "    if G is None:\n",
    "        raise ValueError(\"row_center: отримано None замість масиву.\")\n",
    "    G = np.asarray(G)\n",
    "    if G.ndim == 0:\n",
    "        raise ValueError(\"row_center: очікується 1D або 2D масив, отримано скаляр.\")\n",
    "    # Нормалізуємо до 2D: (n, m). 1D вектор стане (n, 1)\n",
    "    if G.ndim == 1:\n",
    "        G = G.reshape(-1, 1)\n",
    "    if G.size == 0:\n",
    "        return G.copy()\n",
    "    # Віднімаємо максимум у кожному рядку\n",
    "    return G - G.max(axis=1, keepdims=True)\n",
    "\n",
    "def to_class_labels(scores_or_labels):\n",
    "    arr = np.asarray(scores_or_labels)\n",
    "    if arr.ndim == 1:\n",
    "        # або вже класи, або 1D ймовірності/скори\n",
    "        # якщо значення лише 0/1/цілі — вважати класами\n",
    "        if np.issubdtype(arr.dtype, np.integer):\n",
    "            return arr\n",
    "        # якщо флоати: бінарна класифікація\n",
    "        # decision_function зазвичай має значення навколо 0\n",
    "        # якщо діапазон [-inf, inf], застосуємо поріг 0\n",
    "        # якщо в [0,1], застосуємо поріг 0.5\n",
    "        vmin, vmax = np.nanmin(arr), np.nanmax(arr)\n",
    "        thr = 0.0 if (vmin < 0 and vmax > 1) else 0.5\n",
    "        return (arr >= thr).astype(int)\n",
    "    elif arr.ndim == 2:\n",
    "        return arr.argmax(axis=1)\n",
    "    else:\n",
    "        raise ValueError(\"Непідтримувана розмірність виходу: ndim={}\".format(arr.ndim))\n",
    "\n",
    "\n",
    "for target in df_train.columns:\n",
    "    # 1) Підготовка однакових X,y (класи і пріори з train)\n",
    "    Xtr = df_train.drop(columns=[target])\n",
    "    ytr = binarize_target_by_median(df_train[target])\n",
    "\n",
    "    Xte = df_test.drop(columns=[target])\n",
    "\n",
    "    # 2) Наші оцінки через qda_discriminant (з параметрами з train)\n",
    "    classes = sorted(ytr.unique())\n",
    "\n",
    "    G_train_ours = our_scores(Xtr)\n",
    "    G_test_ours  = our_scores(Xte)\n",
    "\n",
    "    # 3) sklearn QDA з тими самими пріорами та без додаткової усадки\n",
    "    priors = np.array([(ytr == c).mean() for c in classes])\n",
    "\n",
    "    qda = QuadraticDiscriminantAnalysis(priors=priors, reg_param=0.0, store_covariance=True)\n",
    "    qda.fit(Xtr, ytr)\n",
    "\n",
    "    G_train_skl = qda.decision_function(Xtr)  # (n_train, n_classes)\n",
    "    G_test_skl  = qda.decision_function(Xte)\n",
    "\n",
    "    Gt_ours_c  = row_center(G_train_ours)\n",
    "    Gt_skl_c   = row_center(G_train_skl)\n",
    "    Ge_ours_c  = row_center(G_test_ours)\n",
    "    Ge_skl_c   = row_center(G_test_skl)\n",
    "\n",
    "    # 4) Метрики збіжності\n",
    "    train_abs_diff = np.abs(Gt_ours_c - Gt_skl_c).mean()\n",
    "    test_abs_diff  = np.abs(Ge_ours_c - Ge_skl_c).mean()\n",
    "\n",
    "    print(\"Сер. |різниця| після центрування (train):\", train_abs_diff)\n",
    "    print(\"Сер. |різниця| після центрування (test):\",  test_abs_diff)\n",
    "\n",
    "    # 6) Опціонально: перевіримо, чи дають однакові класи\n",
    "    pred_ours_train = to_class_labels(G_train_ours)\n",
    "    pred_skl_train  = to_class_labels(G_train_skl)\n",
    "    pred_ours_test  = to_class_labels(G_test_ours)\n",
    "    pred_skl_test   = to_class_labels(G_test_skl)\n",
    "\n",
    "    print(\"Збіг прогнозів (train):\", (pred_ours_train == pred_skl_train).mean())\n",
    "    print(\"Збіг прогнозів (test):\",  (pred_ours_test == pred_skl_test).mean())"
   ],
   "id": "bf6602a50b511c9e",
   "outputs": [
    {
     "name": "stdout",
     "output_type": "stream",
     "text": [
      "Сер. |різниця| після центрування (train): 1.2889492200898975\n",
      "Сер. |різниця| після центрування (test): 1.5516583070511212\n",
      "Збіг прогнозів (train): 1.0\n",
      "Збіг прогнозів (test): 1.0\n",
      "Сер. |різниця| після центрування (train): 4.355225208626357\n",
      "Сер. |різниця| після центрування (test): 5.32825079627171\n",
      "Збіг прогнозів (train): 1.0\n",
      "Збіг прогнозів (test): 1.0\n",
      "Сер. |різниця| після центрування (train): 4.621725684646303\n",
      "Сер. |різниця| після центрування (test): 6.304866966239645\n",
      "Збіг прогнозів (train): 1.0\n",
      "Збіг прогнозів (test): 1.0\n",
      "Сер. |різниця| після центрування (train): 4.224775343174672\n",
      "Сер. |різниця| після центрування (test): 5.732205171882209\n",
      "Збіг прогнозів (train): 1.0\n",
      "Збіг прогнозів (test): 1.0\n"
     ]
    }
   ],
   "execution_count": 196
  },
  {
   "metadata": {},
   "cell_type": "markdown",
   "source": [
    "# Висновок\n",
    "\n",
    "З проведених експериментів видно, що створена нами дискримінантна функція дала інакші оцінки, аніж модель, імпортована з **sklearn**. Це, вірогідно, повʼязано з такими причинами:\n",
    "\n",
    "- Попередня обробка цілі: ви робите бінінг за медіаною; sklearn очікує реальні класи. Інший розподіл класів → інші пріори π_c.\n",
    "- Пріори класів: у sklearn class_prior обчислюється з часток у y (або заданий), у нашому коді це також так, але навіть мінімальні відмінності в бінінгу/фільтрах змінять log π_c.\n",
    "- Регуляризація/стабілізація: ми додаємо reg до діагоналі (та ще eps при не-позитивній визначеності). У sklearn є власні чисельні стабілізації й параметри reg_param, store_covariance, tol тощо. Різні sigma → інші log|Σ_c| та Σ_c^{-1}.\n",
    "- Чисельна лінійна алгебра: відмінності в обчисленні logdet/inv (slogdet+inv vs внутрішні розклади), порядку операцій (центрування, масштабування) → невеликі зсуви.\n",
    "\n",
    "Та попри те, як бачимо, збіг у прогнозуванні на тестових даних у нашому коді та у функції з sklearn все ж збігаються."
   ],
   "id": "585232f8750f50f7"
  }
 ],
 "metadata": {
  "kernelspec": {
   "display_name": "Python 3",
   "language": "python",
   "name": "python3"
  },
  "language_info": {
   "codemirror_mode": {
    "name": "ipython",
    "version": 2
   },
   "file_extension": ".py",
   "mimetype": "text/x-python",
   "name": "python",
   "nbconvert_exporter": "python",
   "pygments_lexer": "ipython2",
   "version": "2.7.6"
  }
 },
 "nbformat": 4,
 "nbformat_minor": 5
}
