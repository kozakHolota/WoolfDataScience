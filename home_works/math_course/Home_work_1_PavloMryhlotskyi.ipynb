{
 "nbformat": 4,
 "nbformat_minor": 0,
 "metadata": {
  "colab": {
   "provenance": [],
   "collapsed_sections": [
    "mbmam7xBKWRj"
   ],
   "include_colab_link": true
  },
  "kernelspec": {
   "name": "python3",
   "display_name": "Python 3"
  },
  "language_info": {
   "name": "python"
  }
 },
 "cells": [
  {
   "cell_type": "markdown",
   "metadata": {
    "id": "view-in-github",
    "colab_type": "text"
   },
   "source": [
    "<a href=\"https://colab.research.google.com/github/kozakHolota/WoolfDataScience/blob/master/Home_work_1_PavloMryhlotskyi.ipynb\" target=\"_parent\"><img src=\"https://colab.research.google.com/assets/colab-badge.svg\" alt=\"Open In Colab\"/></a>"
   ]
  },
  {
   "cell_type": "markdown",
   "source": [
    "# Нагадування по Markdown"
   ],
   "metadata": {
    "id": "mbmam7xBKWRj"
   }
  },
  {
   "cell_type": "markdown",
   "source": [
    "Надаємо невелике нагадування записів в\n",
    "[Markdown](https://colab.research.google.com/notebooks/markdown_guide.ipynb) (LaTeX):\n",
    "\n",
    "Markdown | Preview\n",
    "--- | ---\n",
    "`**bold text**` | **bold text**\n",
    " \\\\$\\frac{x}{y}\\\\$ | $\\frac{x}{y}$\n",
    " \\\\$p^{x}_{y}\\\\$ | $p^{x}_{y}$\n",
    "\\\\$x \\cdot y\\\\$ | $x \\cdot y$\n",
    "\\\\$\\sqrt{x}\\\\$ | $\\sqrt{x}$\n",
    "\\\\$\\pi\\\\$ | $\\pi$\n",
    "\\\\$\\approx\\\\$ | $\\approx$\n",
    "\n",
    "І ще декілька прикладів:\n",
    "\n",
    "```markdown\n",
    "$y=x^2$\n",
    "\n",
    "$e^{i\\pi} + 1 = 0$\n",
    "\n",
    "$e^x=\\sum_{i=0}^\\infty \\frac{1}{i!}x^i$\n",
    "\n",
    "$\\frac{n!}{k!(n-k)!} = {n \\choose k}$\n",
    "\n",
    "$A_{m,n} =\n",
    " \\begin{pmatrix}\n",
    "  a_{1,1} & a_{1,2} & \\cdots & a_{1,n} \\\\\n",
    "  a_{2,1} & a_{2,2} & \\cdots & a_{2,n} \\\\\n",
    "  \\vdots  & \\vdots  & \\ddots & \\vdots  \\\\\n",
    "  a_{m,1} & a_{m,2} & \\cdots & a_{m,n}\n",
    " \\end{pmatrix}$\n",
    "\n",
    " $$\n",
    " I =\n",
    " \\left (\\begin{array}{cc}\n",
    " 1 & 0\\\\\n",
    " 0 & 1\n",
    " \\end{array}\\right)\n",
    " $$\n",
    "```\n",
    "\n",
    "$y=x^2$\n",
    "\n",
    "$e^{i\\pi} + 1 = 0$\n",
    "\n",
    "$e^x=\\sum_{i=0}^\\infty \\frac{1}{i!}x^i$\n",
    "\n",
    "$\\frac{n!}{k!(n-k)!} = {n \\choose k}$\n",
    "\n",
    "$A_{m,n} =\n",
    " \\begin{pmatrix}\n",
    "  a_{1,1} & a_{1,2} & \\cdots & a_{1,n} \\\\\n",
    "  a_{2,1} & a_{2,2} & \\cdots & a_{2,n} \\\\\n",
    "  \\vdots  & \\vdots  & \\ddots & \\vdots  \\\\\n",
    "  a_{m,1} & a_{m,2} & \\cdots & a_{m,n}\n",
    " \\end{pmatrix}$\n",
    "\n",
    "$I =\n",
    "\\left (\\begin{array}{cc}\n",
    "1 & 0\\\\\n",
    "0 & 1\n",
    "\\end{array}\\right)$\n",
    " ---"
   ],
   "metadata": {
    "id": "WKbf0DcrKYHi"
   }
  },
  {
   "cell_type": "markdown",
   "source": [
    "# Завдання 1.\n",
    "В шаблоні наведені числові вектори $\\overline{a}$ та $\\overline{b}$. Порахуй наступне:\n",
    "- сума $\\overline{a}$ та $\\overline{b}$\n",
    "- різниця $\\overline{a}$ та $\\overline{b}$\n",
    "- сума $\\overline{a}$ та $\\overline{b}^T$. Поясни отриманий результат.\n",
    "- матричний добуток (dot product) $\\overline{a}$ та $\\overline{b}^T$.\n",
    "- матричний добуток (dot product) $\\overline{a}$ та $\\overline{b}$. Поясни отриманий результат.\n",
    "- добуток Адамара (Hadamard product) $\\overline{a}$ та $\\overline{b}$. Поясни отриманий результат.\n",
    "- ділення $\\overline{a}$ та $\\overline{b}$. Поясни отриманий результат.\n",
    "- ділення $\\overline{a}$ та $\\overline{b}^T$. Поясни отриманий результат."
   ],
   "metadata": {
    "id": "AQsl6FeF0Sq3"
   }
  },
  {
   "cell_type": "code",
   "source": [
    "import numpy as np\n",
    "# Код оголошення векторів не можна змінювати\n",
    "a = np.array([[1, 2, 3, 4, 5]])\n",
    "b = np.array([[1/2, 1, 2, 3, 4]])"
   ],
   "metadata": {
    "id": "x_pAAV5I0Rqg",
    "ExecuteTime": {
     "end_time": "2025-06-01T20:48:39.919639Z",
     "start_time": "2025-06-01T20:48:39.852554Z"
    }
   },
   "outputs": [],
   "execution_count": 1
  },
  {
   "metadata": {
    "ExecuteTime": {
     "end_time": "2025-06-01T20:48:40.002600Z",
     "start_time": "2025-06-01T20:48:40.001110Z"
    }
   },
   "cell_type": "code",
   "source": "",
   "outputs": [],
   "execution_count": null
  },
  {
   "metadata": {},
   "cell_type": "markdown",
   "source": [
    "$$\\begin{pmatrix}\n",
    "1\\\\\n",
    "2\\\\\n",
    "3\\\\\n",
    "4\\\\\n",
    "5\\\\\n",
    "\\end{pmatrix} + \\begin{pmatrix}\n",
    "\\frac{1}{2}\\\\\n",
    "1\\\\\n",
    "2\\\\\n",
    "3\\\\\n",
    "4\\\\\n",
    "\\end{pmatrix} = \\begin{pmatrix}\n",
    "\\frac{1}{2} + 1\\\\\n",
    "1 + 2\\\\\n",
    "3 + 2\\\\\n",
    "4 + 3\\\\\n",
    "5 + 4 \\\\\n",
    "\\end{pmatrix} = \\begin{pmatrix}\n",
    "1\\frac{1}{2}\\\\\n",
    "3\\\\\n",
    "5\\\\\n",
    "7\\\\\n",
    "9\\\\\n",
    "\\end{pmatrix}\n",
    "$$"
   ]
  },
  {
   "cell_type": "code",
   "source": [
    "res = a + b\n",
    "res"
   ],
   "metadata": {
    "id": "-TcDgKRB0n-s",
    "ExecuteTime": {
     "end_time": "2025-06-01T20:48:40.014351Z",
     "start_time": "2025-06-01T20:48:40.011506Z"
    }
   },
   "outputs": [
    {
     "data": {
      "text/plain": [
       "array([[1.5, 3. , 5. , 7. , 9. ]])"
      ]
     },
     "execution_count": 2,
     "metadata": {},
     "output_type": "execute_result"
    }
   ],
   "execution_count": 2
  },
  {
   "metadata": {},
   "cell_type": "markdown",
   "source": [
    "$$\\begin{pmatrix}\n",
    "1\\\\\n",
    "2\\\\\n",
    "3\\\\\n",
    "4\\\\\n",
    "5\\\\\n",
    "\\end{pmatrix} - \\begin{pmatrix}\n",
    "\\frac{1}{2}\\\\\n",
    "1\\\\\n",
    "2\\\\\n",
    "3\\\\\n",
    "4\\\\\n",
    "\\end{pmatrix} = \\begin{pmatrix}\n",
    "1 - \\frac{1}{2}\\\\\n",
    "2 - 1\\\\\n",
    "3 - 2\\\\\n",
    "4 - 3\\\\\n",
    "5 - 4 \\\\\n",
    "\\end{pmatrix} = \\begin{pmatrix}\n",
    "\\frac{1}{2}\\\\\n",
    "1\\\\\n",
    "1\\\\\n",
    "1\\\\\n",
    "1\\\\\n",
    "\\end{pmatrix}\n",
    "$$"
   ]
  },
  {
   "cell_type": "code",
   "source": [
    "res = a - b\n",
    "res"
   ],
   "metadata": {
    "id": "CcIk7MVQ1xgq",
    "ExecuteTime": {
     "end_time": "2025-06-01T20:48:40.321958Z",
     "start_time": "2025-06-01T20:48:40.319588Z"
    }
   },
   "outputs": [
    {
     "data": {
      "text/plain": [
       "array([[0.5, 1. , 1. , 1. , 1. ]])"
      ]
     },
     "execution_count": 3,
     "metadata": {},
     "output_type": "execute_result"
    }
   ],
   "execution_count": 3
  },
  {
   "metadata": {},
   "cell_type": "markdown",
   "source": [
    "$$\\begin{pmatrix}\n",
    "1\\\\\n",
    "2\\\\\n",
    "3\\\\\n",
    "4\\\\\n",
    "5\\\\\n",
    "\\end{pmatrix} + \\begin{pmatrix}\n",
    "\\frac{1}{2}\\\\\n",
    "1\\\\\n",
    "2\\\\\n",
    "3\\\\\n",
    "4\\\\\n",
    "\\end{pmatrix} ^T = \\begin{pmatrix}\n",
    "1\\\\\n",
    "2\\\\\n",
    "3\\\\\n",
    "4\\\\\n",
    "5\\\\\n",
    "\\end{pmatrix} + \\begin{pmatrix}\n",
    "\\frac{1}{2} & 1 & 2 & 3 & 4\\\\\n",
    "\\end{pmatrix} = \\begin{pmatrix}\n",
    "1 + \\frac{1}{2} & 2 + \\frac{1}{2} & 3 + \\frac{1}{2} & 4 + \\frac{1}{2} & 5 + \\frac{1}{2}\\\\\n",
    "1 + 1 & 2 + 1 & 3 + 1 & 4 + 1 & 5 + 1\\\\\n",
    "1 + 2 & 2 + 2 & 3 + 2 & 4 + 2 & 5 + 2\\\\\n",
    "1 + 3 & 2 + 3 & 3 + 3 & 4 + 3 & 5 + 3\\\\\n",
    "1 + 4 & 2 + 4 & 3 + 4 & 4 + 4 & 5 + 4\\\\\n",
    "\\end{pmatrix} = \\begin{pmatrix}\n",
    "1\\frac{1}{2} & 2\\frac{1}{2} & 3\\frac{1}{2} & 4\\frac{1}{2} & 5\\frac{1}{2}\\\\\n",
    "2 & 3 & 4 & 5 & 6\\\\\n",
    "3 & 4 & 5 & 6 & 7\\\\\n",
    "4 & 5 & 6 & 7 & 8\\\\\n",
    "5 & 6 & 7 & 8 & 9\\\\\n",
    "\\end{pmatrix}\n",
    "$$"
   ]
  },
  {
   "cell_type": "code",
   "source": [
    "# Пояснення:\n",
    "res = a + b.T\n",
    "res"
   ],
   "metadata": {
    "id": "exb6q60N0uFv",
    "ExecuteTime": {
     "end_time": "2025-06-01T20:48:40.375375Z",
     "start_time": "2025-06-01T20:48:40.373146Z"
    }
   },
   "outputs": [
    {
     "data": {
      "text/plain": [
       "array([[1.5, 2.5, 3.5, 4.5, 5.5],\n",
       "       [2. , 3. , 4. , 5. , 6. ],\n",
       "       [3. , 4. , 5. , 6. , 7. ],\n",
       "       [4. , 5. , 6. , 7. , 8. ],\n",
       "       [5. , 6. , 7. , 8. , 9. ]])"
      ]
     },
     "execution_count": 4,
     "metadata": {},
     "output_type": "execute_result"
    }
   ],
   "execution_count": 4
  },
  {
   "metadata": {},
   "cell_type": "markdown",
   "source": [
    "$$\\begin{pmatrix}\n",
    "1\\\\\n",
    "2\\\\\n",
    "3\\\\\n",
    "4\\\\\n",
    "5\\\\\n",
    "\\end{pmatrix} * \\begin{pmatrix}\n",
    "\\frac{1}{2}\\\\\n",
    "1\\\\\n",
    "2\\\\\n",
    "3\\\\\n",
    "4\\\\\n",
    "\\end{pmatrix} ^T = \\begin{pmatrix}\n",
    "1\\\\\n",
    "2\\\\\n",
    "3\\\\\n",
    "4\\\\\n",
    "5\\\\\n",
    "\\end{pmatrix} * \\begin{pmatrix}\n",
    "\\frac{1}{2} & 1 & 2 & 3 & 4\\\\\n",
    "\\end{pmatrix} = \\begin{pmatrix}\n",
    "1 * \\frac{1}{2} + 2 * 1 + 3 * 2 + 4 * 3 + 5 * 4\\\\\n",
    "\\end{pmatrix} = \\begin{pmatrix}\n",
    "40\\frac{1}{2}\\\\\n",
    "\\end{pmatrix}$$"
   ]
  },
  {
   "cell_type": "code",
   "source": [
    "res = a.dot(b.T)\n",
    "res"
   ],
   "metadata": {
    "id": "oZB7Kx5_1c29",
    "ExecuteTime": {
     "end_time": "2025-06-01T20:48:40.445939Z",
     "start_time": "2025-06-01T20:48:40.443729Z"
    }
   },
   "outputs": [
    {
     "data": {
      "text/plain": [
       "array([[40.5]])"
      ]
     },
     "execution_count": 5,
     "metadata": {},
     "output_type": "execute_result"
    }
   ],
   "execution_count": 5
  },
  {
   "metadata": {},
   "cell_type": "markdown",
   "source": [
    "$$\\begin{pmatrix}\n",
    "1\\\\\n",
    "2\\\\\n",
    "3\\\\\n",
    "4\\\\\n",
    "5\\\\\n",
    "\\end{pmatrix} * \\begin{pmatrix}\n",
    "\\frac{1}{2}\\\\\n",
    "1\\\\\n",
    "2\\\\\n",
    "3\\\\\n",
    "4\\\\\n",
    "\\end{pmatrix}$$\n",
    "\n",
    "Операція неможлива (кількість стовпців в **a** не дорівнює кількості рядків **b**)"
   ]
  },
  {
   "cell_type": "code",
   "source": [
    "# Пояснення:\n",
    "res = a.dot(b)\n",
    "res"
   ],
   "metadata": {
    "id": "PbRyd3630xud",
    "ExecuteTime": {
     "end_time": "2025-06-01T20:48:40.603019Z",
     "start_time": "2025-06-01T20:48:40.501695Z"
    }
   },
   "outputs": [
    {
     "ename": "ValueError",
     "evalue": "shapes (1,5) and (1,5) not aligned: 5 (dim 1) != 1 (dim 0)",
     "output_type": "error",
     "traceback": [
      "\u001B[31m---------------------------------------------------------------------------\u001B[39m",
      "\u001B[31mValueError\u001B[39m                                Traceback (most recent call last)",
      "\u001B[36mCell\u001B[39m\u001B[36m \u001B[39m\u001B[32mIn[6]\u001B[39m\u001B[32m, line 2\u001B[39m\n\u001B[32m      1\u001B[39m \u001B[38;5;66;03m# Пояснення:\u001B[39;00m\n\u001B[32m----> \u001B[39m\u001B[32m2\u001B[39m res = \u001B[43ma\u001B[49m\u001B[43m.\u001B[49m\u001B[43mdot\u001B[49m\u001B[43m(\u001B[49m\u001B[43mb\u001B[49m\u001B[43m)\u001B[49m\n\u001B[32m      3\u001B[39m res\n",
      "\u001B[31mValueError\u001B[39m: shapes (1,5) and (1,5) not aligned: 5 (dim 1) != 1 (dim 0)"
     ]
    }
   ],
   "execution_count": 6
  },
  {
   "metadata": {},
   "cell_type": "markdown",
   "source": [
    "$$\\begin{pmatrix}\n",
    "1\\\\\n",
    "2\\\\\n",
    "3\\\\\n",
    "4\\\\\n",
    "5\\\\\n",
    "\\end{pmatrix} * \\begin{pmatrix}\n",
    "\\frac{1}{2}\\\\\n",
    "1\\\\\n",
    "2\\\\\n",
    "3\\\\\n",
    "4\\\\\n",
    "\\end{pmatrix} = \\begin{pmatrix}\n",
    "1 * \\frac{1}{2}\\\\\n",
    "2 * 1\\\\\n",
    "3 * 2\\\\\n",
    "4 * 3\\\\\n",
    "5* 4\\\\\n",
    "\\end{pmatrix} = \\begin{pmatrix}\n",
    "\\frac{1}{2}\\\\\n",
    "2\\\\\n",
    "6\\\\\n",
    "12\\\\\n",
    "20\\\\\n",
    "\\end{pmatrix}$$"
   ]
  },
  {
   "cell_type": "code",
   "source": [
    "# Пояснення:\n",
    "res = a * b\n",
    "res"
   ],
   "metadata": {
    "id": "QPHTXr83ly7o",
    "ExecuteTime": {
     "end_time": "2025-06-01T20:48:40.610753Z",
     "start_time": "2025-04-19T13:33:24.640415Z"
    }
   },
   "outputs": [
    {
     "data": {
      "text/plain": [
       "array([[ 0.5,  2. ,  6. , 12. , 20. ]])"
      ]
     },
     "execution_count": 9,
     "metadata": {},
     "output_type": "execute_result"
    }
   ],
   "execution_count": 9
  },
  {
   "metadata": {},
   "cell_type": "markdown",
   "source": [
    "$$\\begin{pmatrix}\n",
    "1\\\\\n",
    "2\\\\\n",
    "3\\\\\n",
    "4\\\\\n",
    "5\\\\\n",
    "\\end{pmatrix} / \\begin{pmatrix}\n",
    "\\frac{1}{2}\\\\\n",
    "1\\\\\n",
    "2\\\\\n",
    "3\\\\\n",
    "4\\\\\n",
    "\\end{pmatrix} = \\begin{pmatrix}\n",
    "1 / \\frac{1}{2}\\\\\n",
    "2 / 1\\\\\n",
    "3 / 2\\\\\n",
    "4 / 3\\\\\n",
    "5 / 4\\\\\n",
    "\\end{pmatrix} = \\begin{pmatrix}\n",
    "2\\\\\n",
    "2\\\\\n",
    "1\\frac{1}{2}\\\\\n",
    "1\\frac{1}{3}\\\\\n",
    "1\\frac{1}{4}\\\\\n",
    "\\end{pmatrix}$$"
   ]
  },
  {
   "cell_type": "code",
   "source": [
    "# Пояснення:\n",
    "res = a / b\n",
    "res"
   ],
   "metadata": {
    "id": "9mAIEbkQ1pJH",
    "ExecuteTime": {
     "end_time": "2025-06-01T20:48:40.611606Z",
     "start_time": "2025-04-19T13:42:06.549096Z"
    }
   },
   "outputs": [
    {
     "data": {
      "text/plain": [
       "array([[2.        , 2.        , 1.5       , 1.33333333, 1.25      ]])"
      ]
     },
     "execution_count": 10,
     "metadata": {},
     "output_type": "execute_result"
    }
   ],
   "execution_count": 10
  },
  {
   "metadata": {},
   "cell_type": "markdown",
   "source": [
    "$$\\begin{pmatrix}\n",
    "1\\\\\n",
    "2\\\\\n",
    "3\\\\\n",
    "4\\\\\n",
    "5\\\\\n",
    "\\end{pmatrix} / \\begin{pmatrix}\n",
    "\\frac{1}{2} & 1 & 2 & 3 & 4\\\\\n",
    "\\end{pmatrix} = \\begin{pmatrix}\n",
    "1 / \\frac{1}{2} & 2 / \\frac{1}{2} & 3 / \\frac{1}{2} & 4 / \\frac{1}{2} & 5 / \\frac{1}{2}\\\\\n",
    "1 / 1 & 2 / 1 & 3 / 1 & 4 / 1 & 5 / 1\\\\\n",
    "1 / 2 & 2 / 2 & 3 / 2 & 4 / 2 & 5 / 2\\\\\n",
    "1 / 3 & 2 / 3 & 3 / 3 & 4 / 3 & 5 / 3\\\\\n",
    "1 / 4 & 2 / 4 & 3 / 4 & 4 / 4 & 5 / 4\\\\\n",
    "\\end{pmatrix} = \\begin{pmatrix}\n",
    "2 & 4 & 6 & 8 & 8 & 10\\\\\n",
    "1 & 2 & 3 & 4 & 5\\\\\n",
    "\\frac{1}{2} & 1 & 1\\frac{1}{2} & 2 & 2\\frac{1}{2}\\\\\n",
    "\\frac{1}{3} & \\frac{2}{3} & 1 & 1\\frac{1}{3} & 2\\frac{1}{3}\\\\\n",
    "\\frac{1}{4} & \\frac{1}{2} & \\frac{3}{4} & 1 & 1\\frac{1}{4}\\\\\n",
    "\\end{pmatrix}$$"
   ]
  },
  {
   "cell_type": "code",
   "source": [
    "# Пояснення:\n",
    "res = a / b.T\n",
    "res"
   ],
   "metadata": {
    "id": "pozfWRdc1qF9",
    "ExecuteTime": {
     "end_time": "2025-06-01T20:48:40.625846Z",
     "start_time": "2025-04-19T13:47:21.332139Z"
    }
   },
   "outputs": [
    {
     "data": {
      "text/plain": [
       "array([[ 2.        ,  4.        ,  6.        ,  8.        , 10.        ],\n",
       "       [ 1.        ,  2.        ,  3.        ,  4.        ,  5.        ],\n",
       "       [ 0.5       ,  1.        ,  1.5       ,  2.        ,  2.5       ],\n",
       "       [ 0.33333333,  0.66666667,  1.        ,  1.33333333,  1.66666667],\n",
       "       [ 0.25      ,  0.5       ,  0.75      ,  1.        ,  1.25      ]])"
      ]
     },
     "execution_count": 11,
     "metadata": {},
     "output_type": "execute_result"
    }
   ],
   "execution_count": 11
  },
  {
   "cell_type": "markdown",
   "source": [
    "# Завдання 2\n",
    "В цьому завданні ти навчишся перетворювати вектори за допомогою афінних перетворень.  \n",
    "Дано вектор:\n",
    "$$\n",
    "x =\n",
    "\\left(\\begin{array}{cc}\n",
    "2\\\\\n",
    "1\n",
    "\\end{array}\\right)\n",
    "$$\n",
    "\n",
    "\n",
    "Виконай аналітично наступні завдання задавши матрицю перетворення та застосуй її до вектора $x$:\n",
    "\n",
    "1. Зменши вектор $x$ в 2 рази по вісі $OX$ та збільш в 3 рази по вісі $OY$.\n",
    "2. Відобрази вектор $x$ відносно початку координат.\n",
    "3. Перенеси вектор $x$ на -3 по вісі $OX$ та на 1 по вісі $OY$.\n",
    "4. Змісти вектор $x$ на 60° по вісі $OY$.\n",
    "5. Поверни вектор $x$ на 30°.\n",
    "6. Об'єднай перетворення з кроків 1, 2, 4, 5 в одну матрицю та застосуй її до вектору $x$."
   ],
   "metadata": {
    "id": "W-FFJ2oK0TTF"
   }
  },
  {
   "metadata": {},
   "cell_type": "markdown",
   "source": [
    "## 2.1 Зменши вектор $x$ в 2 рази по вісі $OX$ та збільш в 3 рази по вісі $OY$\n",
    "$$\n",
    "M_1 =\n",
    "\\begin{pmatrix}\n",
    "0.5 & 0 \\\\\n",
    "0 & 3\n",
    "\\end{pmatrix},\n",
    "\\quad\n",
    "x =\n",
    "\\begin{pmatrix}\n",
    "2 \\\\\n",
    "1\n",
    "\\end{pmatrix}\n",
    "$$\n",
    "\n",
    "$$\n",
    "M_1 x =\n",
    "\\begin{pmatrix}\n",
    "0.5 & 0 \\\\\n",
    "0 & 3\n",
    "\\end{pmatrix}\n",
    "\\cdot\n",
    "\\begin{pmatrix}\n",
    "2 \\\\\n",
    "1\n",
    "\\end{pmatrix}\n",
    "=\n",
    "\\begin{pmatrix}\n",
    "0.5 \\cdot 2 + 0 \\cdot 1 \\\\\n",
    "0 \\cdot 2 + 3 \\cdot 1\n",
    "\\end{pmatrix}\n",
    "=\n",
    "\\begin{pmatrix}\n",
    "1 \\\\\n",
    "3\n",
    "\\end{pmatrix}\n",
    "$$"
   ]
  },
  {
   "cell_type": "markdown",
   "source": [
    "## 2.2 Відобрази вектор $x$ відносно початку координат.\n",
    "$$\n",
    "M_2 = \\left(\\begin{array}{cc}\n",
    "-1 & 0\\\\\n",
    "0 & -1\n",
    "\\end{array}\\right)\n",
    "$$\n",
    "$$\n",
    "M_2x = \\left(\\begin{array}{cc}\n",
    "-1 & 0\\\\\n",
    "0 & -1\n",
    "\\end{array}\\right) * \\left(\\begin{array}{cc}\n",
    "1\\\\\n",
    "3\n",
    "\\end{array}\\right) = \\left(\\begin{array}{cc}\n",
    "-1\\\\\n",
    "-3\n",
    "\\end{array}\\right)\n",
    "$$"
   ],
   "metadata": {
    "id": "35Ld0CHYgsXY"
   }
  },
  {
   "cell_type": "markdown",
   "source": "## 2.3 Перенеси вектор $x$, задавши відповідну матрицю і помноживши на неї,  на -3 по вісі $OX$ та на 1 по вісі $OY$.",
   "metadata": {
    "id": "V5AiNUx14MvZ"
   }
  },
  {
   "cell_type": "markdown",
   "source": [
    "$$\n",
    "M_3 =\n",
    "\\begin{pmatrix}\n",
    "-3 \\\\\n",
    "1\n",
    "\\end{pmatrix}\n",
    "$$\n",
    "$$\n",
    "M_3 x =\n",
    "\\begin{pmatrix}\n",
    "1 & 0 & -3 \\\\\n",
    "0 & 1 & 1 \\\\\n",
    "0 & 0 & 1\n",
    "\\end{pmatrix}\n",
    "\\cdot\n",
    "\\begin{pmatrix}\n",
    "-3 \\\\\n",
    "1 \\\\\n",
    "1\n",
    "\\end{pmatrix}\n",
    "=\n",
    "\\begin{pmatrix}\n",
    "1 \\cdot (-3) + 0 \\cdot 1 + (-3) \\cdot 1 \\\\\n",
    "0 \\cdot (-3) + 1 \\cdot 1 + 1 \\cdot 1 \\\\\n",
    "0 \\cdot (-3) + 0 \\cdot 1 + 1 \\cdot 1\n",
    "\\end{pmatrix}\n",
    "=\n",
    "\\begin{pmatrix}\n",
    "-6 \\\\\n",
    "2 \\\\\n",
    "1\n",
    "\\end{pmatrix}\n",
    "$$\n",
    "$$\n",
    "M_3 x =\n",
    "\\begin{pmatrix}\n",
    "-6 \\\\\n",
    "2\n",
    "\\end{pmatrix}\n",
    "$$"
   ],
   "metadata": {
    "id": "qtzBmsNcgpQA"
   }
  },
  {
   "cell_type": "markdown",
   "source": [
    "#### 2.4 Змісти(shear) вектор $x$ на 60° по вісі $OY$.\n"
   ],
   "metadata": {
    "id": "VfjTQ4li9Neq"
   }
  },
  {
   "cell_type": "markdown",
   "source": [
    "$$\n",
    "M_{4x} =\n",
    "\\begin{pmatrix}\n",
    "1 & 0 \\\\\n",
    "\\sqrt{3} & 1\n",
    "\\end{pmatrix}\n",
    "\\cdot\n",
    "\\begin{pmatrix}\n",
    "-6 \\\\\n",
    "2\n",
    "\\end{pmatrix}\n",
    "=\n",
    "\\begin{pmatrix}\n",
    "1 \\cdot (-6) + 0 \\cdot 2 \\\\\n",
    "\\sqrt{3} \\cdot (-6) + 1 \\cdot 2\n",
    "\\end{pmatrix}\n",
    "=\n",
    "\\begin{pmatrix}\n",
    "-6 \\\\\n",
    "-6 \\sqrt{3} + 2\n",
    "\\end{pmatrix}\n",
    "$$"
   ],
   "metadata": {
    "id": "1-0_aTZiglze"
   }
  },
  {
   "cell_type": "markdown",
   "source": [
    "#### 2.5 Поверни вектор $x$ на 30°."
   ],
   "metadata": {
    "id": "F5dbVgGr9RCD"
   }
  },
  {
   "cell_type": "markdown",
   "source": [
    "$$\n",
    "\\theta = \\frac{30 \\pi}{180} = \\frac{\\pi}{6}\n",
    "$$\n",
    "$$\n",
    "R(\\theta) =\n",
    "\\begin{pmatrix}\n",
    "\\cos\\left( \\frac{\\pi}{6} \\right) & -\\sin\\left( \\frac{\\pi}{6} \\right) \\\\\n",
    "\\sin\\left( \\frac{\\pi}{6} \\right) & \\cos\\left( \\frac{\\pi}{6} \\right)\n",
    "\\end{pmatrix}\n",
    "=\n",
    "\\begin{pmatrix}\n",
    "\\frac{\\sqrt{3}}{2} & -\\frac{1}{2} \\\\\n",
    "\\frac{1}{2} & \\frac{\\sqrt{3}}{2}\n",
    "\\end{pmatrix}\n",
    "$$\n",
    "$$\n",
    "M_{5x} = R(\\theta) \\cdot\n",
    "\\begin{pmatrix}\n",
    "-6 \\\\\n",
    "-6 \\sqrt{3} + 2\n",
    "\\end{pmatrix}\n",
    "=\n",
    "\\begin{pmatrix}\n",
    "\\frac{\\sqrt{3}}{2} \\cdot (-6) + \\left(-\\frac{1}{2}\\right) \\cdot \\left(-6 \\sqrt{3} + 2\\right) \\\\\n",
    "\\frac{1}{2} \\cdot (-6) + \\frac{\\sqrt{3}}{2} \\cdot \\left(-6 \\sqrt{3} + 2\\right)\n",
    "\\end{pmatrix}\n",
    "$$\n",
    "\n",
    "Обчислимо:\n",
    "\n",
    "$$\n",
    "\\begin{aligned}\n",
    "\\text{Перша координата:} \\quad & -3 \\sqrt{3} + \\frac{6 \\sqrt{3} - 2}{2} = -3 \\sqrt{3} + 3 \\sqrt{3} - 1 = -1 \\\\\n",
    "\\text{Друга координата:} \\quad & -3 + \\frac{-18 + 2 \\sqrt{3}}{2} = -3 - 9 + \\sqrt{3} = -12 + \\sqrt{3}\n",
    "\\end{aligned}\n",
    "$$\n",
    "$$\n",
    "\\boxed{M_{5x} =\n",
    "\\begin{pmatrix}\n",
    "-1 \\\\\n",
    "-12 + \\sqrt{3}\n",
    "\\end{pmatrix}\n",
    "}\n",
    "$$"
   ],
   "metadata": {
    "id": "ABCk4cPhg2Zp"
   }
  },
  {
   "cell_type": "markdown",
   "source": [
    "#### 2.6 Об'єднай перетворення з кроків 1, 2, 4, 5 в одну матрицю та застосуй її до вектору $x$."
   ],
   "metadata": {
    "id": "nXJQVzee9RTp"
   }
  },
  {
   "cell_type": "markdown",
   "source": [
    "## Перемноження матриць\n",
    "\n",
    "Нехай маємо наступне множення:\n",
    "\n",
    "$$\n",
    "M = M_6 \\cdot M_5 \\cdot M_4 \\cdot M_2 \\cdot M_1\n",
    "$$\n",
    "\n",
    "де\n",
    "\n",
    "$$\n",
    "M_1 = \\begin{pmatrix}\n",
    "-\\frac{1}{2} & \\frac{\\sqrt{3}}{2} \\\\\n",
    "-\\frac{\\sqrt{3}}{2} & -\\frac{1}{2}\n",
    "\\end{pmatrix}, \\quad\n",
    "M_2 = \\begin{pmatrix}\n",
    "1 & 0 \\\\\n",
    "\\sqrt{3} & 1\n",
    "\\end{pmatrix}, \\quad\n",
    "M_4 = \\begin{pmatrix}\n",
    "0 & 0.5 \\\\\n",
    "0 & 0\n",
    "\\end{pmatrix}\n",
    "$$\n",
    "\n",
    "$$\n",
    "M_5 = \\begin{pmatrix}\n",
    "0 & 0 \\\\\n",
    "0 & -3\n",
    "\\end{pmatrix}, \\quad\n",
    "M_6 = \\begin{pmatrix}\n",
    "\\frac{1}{2} & 0 \\\\\n",
    "0 & -3\n",
    "\\end{pmatrix}\n",
    "$$\n",
    "\n",
    "### Крок 1. Обчислюємо $M_2 \\cdot M_1$\n",
    "\n",
    "$$\n",
    "M_2 \\cdot M_1 =\n",
    "\\begin{pmatrix}\n",
    "1 & 0 \\\\\n",
    "\\sqrt{3} & 1\n",
    "\\end{pmatrix}\n",
    "\\cdot\n",
    "\\begin{pmatrix}\n",
    "-\\frac{1}{2} & \\frac{\\sqrt{3}}{2} \\\\\n",
    "-\\frac{\\sqrt{3}}{2} & -\\frac{1}{2}\n",
    "\\end{pmatrix}\n",
    "=\n",
    "\\begin{pmatrix}\n",
    "-\\frac{1}{2} & \\frac{\\sqrt{3}}{2} \\\\\n",
    "-\\frac{\\sqrt{3}}{2} & -\\frac{1}{2}\n",
    "\\end{pmatrix}\n",
    "$$\n",
    "\n",
    "### Крок 2. Обчислюємо $M_5 \\cdot M_4$\n",
    "\n",
    "$$\n",
    "M_5 \\cdot M_4 =\n",
    "\\begin{pmatrix}\n",
    "0 & 0 \\\\\n",
    "0 & -3\n",
    "\\end{pmatrix}\n",
    "\\cdot\n",
    "\\begin{pmatrix}\n",
    "0 & 0.5 \\\\\n",
    "0 & 0\n",
    "\\end{pmatrix}\n",
    "=\n",
    "\\begin{pmatrix}\n",
    "0 & 0 \\\\\n",
    "0 & 0\n",
    "\\end{pmatrix}\n",
    "$$\n",
    "\n",
    "### Крок 3. Остаточне множення:\n",
    "\n",
    "$$\n",
    "M = M_6 \\cdot \\left(M_5 \\cdot M_4\\right) \\cdot \\left(M_2 \\cdot M_1\\right)\n",
    "=\n",
    "\\begin{pmatrix}\n",
    "\\frac{1}{2} & 0 \\\\\n",
    "0 & -3\n",
    "\\end{pmatrix}\n",
    "\\cdot\n",
    "\\begin{pmatrix}\n",
    "-\\frac{\\sqrt{3}}{2} & \\frac{1}{2} \\\\\n",
    "-3 & 0\n",
    "\\end{pmatrix}\n",
    "=\n",
    "\\begin{pmatrix}\n",
    "-\\frac{\\sqrt{3}}{4} & \\frac{1}{4} \\\\\n",
    "-6 & 0\n",
    "\\end{pmatrix}\n",
    "$$\n",
    "\n",
    "### Відповідь:\n",
    "\n",
    "$$\n",
    "M =\n",
    "\\begin{pmatrix}\n",
    "-\\frac{\\sqrt{3}}{4} & \\frac{1}{4} \\\\\n",
    "-6 & 0\n",
    "\\end{pmatrix}\n",
    "$$"
   ],
   "metadata": {
    "id": "NzEYWaaZHUGm"
   }
  },
  {
   "cell_type": "markdown",
   "source": [
    "### Застосуємо результуючу матрицю до початкового вектора\n",
    "\n",
    "$$\n",
    "M =\n",
    "\\begin{pmatrix}\n",
    "-\\dfrac{\\sqrt{3}}{4} & \\dfrac{1}{4} \\\\\n",
    "-6 & 0\n",
    "\\end{pmatrix},\n",
    "\\quad\n",
    "\\vec{x} =\n",
    "\\begin{pmatrix}\n",
    "2 \\\\\n",
    "1\n",
    "\\end{pmatrix}\n",
    "$$\n",
    "\n",
    "Знайдемо добуток $begin:math:text$ M \\\\cdot \\\\vec{x} $end:math:text$:\n",
    "\n",
    "$$\n",
    "M \\cdot \\vec{x} =\n",
    "\\begin{pmatrix}\n",
    "-\\dfrac{\\sqrt{3}}{4} & \\dfrac{1}{4} \\\\\n",
    "-6 & 0\n",
    "\\end{pmatrix}\n",
    "\\cdot\n",
    "\\begin{pmatrix}\n",
    "2 \\\\\n",
    "1\n",
    "\\end{pmatrix}\n",
    "=\n",
    "\\begin{pmatrix}\n",
    "-\\dfrac{2\\sqrt{3}}{4} + \\dfrac{1}{4} \\\\\n",
    "-12\n",
    "\\end{pmatrix}\n",
    "=\n",
    "\\begin{pmatrix}\n",
    "\\dfrac{-2\\sqrt{3} + 1}{4} \\\\\n",
    "-12\n",
    "\\end{pmatrix}\n",
    "$$"
   ],
   "metadata": {
    "id": "483K8PxWY0Na"
   }
  },
  {
   "cell_type": "markdown",
   "source": [
    "# Завдання 2 (Альтернативне)"
   ],
   "metadata": {
    "id": "4Hskh6fFb89N"
   }
  },
  {
   "cell_type": "code",
   "source": [
    "import cv2 as cv\n",
    "import urllib\n",
    "import numpy as np\n",
    "from google.colab.patches import cv2_imshow as cv_imshow\n",
    "\n",
    "# Read an image\n",
    "def read_image_by_url(url):\n",
    "    req = urllib.request.urlopen(url)\n",
    "    arr = np.asarray(bytearray(req.read()), dtype=np.uint8)\n",
    "    img = cv.imdecode(arr, -1)\n",
    "    return img\n",
    "\n",
    "url = ''\n",
    "\n",
    "img = read_image_by_url(url)"
   ],
   "metadata": {
    "id": "T9X-m9XvdlPK"
   },
   "execution_count": null,
   "outputs": []
  },
  {
   "cell_type": "code",
   "source": [
    "cv_imshow(img)"
   ],
   "metadata": {
    "id": "3oDsfgd25Rx7"
   },
   "execution_count": null,
   "outputs": []
  },
  {
   "cell_type": "code",
   "source": [],
   "metadata": {
    "id": "XmpNfQZpira8"
   },
   "execution_count": null,
   "outputs": []
  }
 ]
}
