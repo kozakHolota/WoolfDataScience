{
 "nbformat": 4,
 "nbformat_minor": 0,
 "metadata": {
  "colab": {
   "provenance": [],
   "include_colab_link": true
  },
  "kernelspec": {
   "name": "python3",
   "display_name": "Python 3"
  },
  "language_info": {
   "name": "python"
  }
 },
 "cells": [
  {
   "cell_type": "markdown",
   "metadata": {
    "id": "view-in-github",
    "colab_type": "text"
   },
   "source": [
    "<a href=\"https://colab.research.google.com/github/kozakHolota/WoolfDataScience/blob/master/Home_work_4_PavloMryhlotskyi.ipynb\" target=\"_parent\"><img src=\"https://colab.research.google.com/assets/colab-badge.svg\" alt=\"Open In Colab\"/></a>"
   ]
  },
  {
   "cell_type": "markdown",
   "source": [
    "Вам можуть знадобитись такі символи:\n",
    "\n",
    "\n",
    "Символ | Код\n",
    "--- | ---\n",
    "$\\wedge$ | \\\\$\\wedge\\\\$\n",
    "$\\vee$ | \\\\$\\vee\\\\$\n",
    "$\\neg$ | \\\\$\\neg\\\\$\n",
    "$\\rightarrow$ | \\\\$\\rightarrow\\\\$\n",
    "$\\oplus$ | \\\\$\\oplus\\\\$\n",
    "$\\equiv$ | \\\\$\\equiv\\\\$\n",
    "$\\Leftrightarrow$ | \\\\$\\Leftrightarrow\\\\$"
   ],
   "metadata": {
    "id": "xJ6EpMRR0Ko1"
   }
  },
  {
   "cell_type": "markdown",
   "source": [
    "## Завдання 1\n",
    "Запишіть наступні висловлювання у математичній формі та складіть для них таблиці істиності:"
   ],
   "metadata": {
    "id": "yKUL8_WRy1WO"
   }
  },
  {
   "cell_type": "markdown",
   "source": [
    "a) “Морті прийде на вечірку (A) тоді й тільки тоді, коли Джесіка прийде на вечірку(B), а Рік не прийде(C)”.\n",
    "\n",
    "A - Морті прийде на вечірку\n",
    "\n",
    "B - Джесіка прийде на вечірку\n",
    "\n",
    "C -  Рік не прийде\n",
    "\n",
    "$X = A \\Leftrightarrow (B \\land \\lnot C)$\n",
    "\n",
    "$$\n",
    "\\begin{array} {|r|r|}\\hline\n",
    "A & B & C & X \\\\ \\hline\n",
    "1 & 1 & 1 & 0 \\\\ \\hline\n",
    "0 & 1 & 1 & 1 \\\\ \\hline\n",
    "1 & 0 & 1 & 0 \\\\ \\hline\n",
    "0 & 0 & 1 & 1 \\\\ \\hline\n",
    "1 & 1 & 0 & 1 \\\\ \\hline\n",
    "0 & 1 & 0 & 0 \\\\ \\hline\n",
    "1 & 0 & 0 & 0 \\\\ \\hline\n",
    "0 & 0 & 0 & 1 \\\\ \\hline\n",
    "\\end{array}\n",
    "$$"
   ],
   "metadata": {
    "id": "O0k_O_SOy2eP"
   }
  },
  {
   "cell_type": "markdown",
   "source": [
    "b) “Якщо ми успішно виконаємо домашнє завдання з математичної логіки (A), то ми отримаємо заліковий бал (B) або візьмемо участь у науковому семінарі (C), водночас якщо ми візьмемо участь у науковому семінарі і отримаємо заліковий бал, то достроково складемо іспит з математичної логіки (D)”.\n",
    "\n",
    "A - ми успішно виконаємо домашнє завдання з математичної логіки\\\n",
    "B - ми отримаємо заліковий бал\\\n",
    "C - візьмемо участь у науковому семінарі\\\n",
    "D - ми візьмемо участь у науковому семінарі і отримаємо заліковий бал, то достроково складемо іспит з математичної логіки\n",
    "\n",
    "$X = A \\rightarrow \\left( B \\lor (C \\land D) \\right) = A \\rightarrow \\left( (B \\lor C) \\land (B \\lor D) \\right)$\n",
    "\n",
    "$$\n",
    "\\begin{array} {|r|r|}\\hline\n",
    "A & B & C & D & X \\\\ \\hline\n",
    "1 & 1 & 1 & 1 & 1 \\\\ \\hline\n",
    "0 & 1 & 1 & 1 & 1 \\\\ \\hline\n",
    "1 & 0 & 1 & 1 & 1 \\\\ \\hline\n",
    "0 & 0 & 1 & 1 & 1 \\\\ \\hline\n",
    "1 & 1 & 0 & 1 & 1 \\\\ \\hline\n",
    "0 & 1 & 0 & 1 & 1 \\\\ \\hline\n",
    "1 & 0 & 0 & 1 & 0 \\\\ \\hline\n",
    "0 & 0 & 0 & 1 & 1 \\\\ \\hline\n",
    "1 & 1 & 1 & 0 & 1 \\\\ \\hline\n",
    "0 & 1 & 1 & 0 & 1 \\\\ \\hline\n",
    "1 & 0 & 1 & 0 & 0 \\\\ \\hline\n",
    "0 & 0 & 1 & 0 & 1 \\\\ \\hline\n",
    "1 & 1 & 0 & 0 & 1 \\\\ \\hline\n",
    "0 & 1 & 0 & 0 & 1 \\\\ \\hline\n",
    "1 & 0 & 0 & 0 & 0 \\\\ \\hline\n",
    "0 & 0 & 0 & 0 & 1 \\\\ \\hline\n",
    "\\end{array}\n",
    "$$"
   ],
   "metadata": {
    "id": "YO3StJEgy2w5"
   }
  },
  {
   "cell_type": "markdown",
   "source": [
    "## Завдання 2\n",
    "Із 40 програмістів 18 володіють мовою Python, 19 — мовою С++, 21 — мовою Java. Відомо, що 10 програмістів знають одночасно Python і С++, 7 — Python і Java, 8 — C++ і Java. Троє програмістів не володіють жодною із мов Python, С++, Java. Знайти кількість програмістів, які одночасно знають усі три мови програмування."
   ],
   "metadata": {
    "id": "7n3tjLJey3Ho"
   }
  },
  {
   "cell_type": "markdown",
   "source": [
    "Спкршу означимо множини:\n",
    "\n",
    "$U$ — всі програмісти\n",
    "\n",
    "$P$ — знають Python\n",
    "\n",
    "$C$ — знають C++\n",
    "\n",
    "$J$ — знають Java\n",
    "\n",
    "$N$ — не знають жодної мови\n",
    "\n",
    "$A$ — знають усі мови\n",
    "\n",
    "Означимо також і розмірності кожної множини:\n",
    "\n",
    "$$|U| = 40, \\quad |P| = 18, \\quad |C| = 19, \\quad |J| = 21, \\quad |N| = 3, \\quad |P \\cap C| = 10, \\quad |P \\cap J| = 7, \\quad |C \\cap J| = 8$$\n",
    "\n",
    "$$\\text{Знайти:} \\quad |A| = ?$$\n",
    "\n",
    "**Програмісти, що знають усі мови** - це ті програмісти, що оночасно належать до всіх множин тих, хто знають якусь мову програмування. Математично можемо виразити це так:\n",
    "\n",
    "$$\n",
    "A = (P \\cap C) \\cup (P \\cap J) \\cup (J \\cap C)\n",
    "$$\n",
    "Позначимо:\n",
    "\n",
    "$$\n",
    "A_1 = P \\cap C\n",
    "$$\n",
    "$$\n",
    "A_2 = P \\cap J\n",
    "$$\n",
    "$$\n",
    "A_3 = J \\cap C\n",
    "$$\n",
    "\n",
    "За формулою включень-виключень:\n",
    "\n",
    "$$\n",
    "|A| = |A_1| + |A_2| + |A_3| - |A_1 \\cap A_2| - |A_1 \\cap A_3| - |A_2 \\cap A_3| + |A_1 \\cap A_2 \\cap A_3|\n",
    "$$\n",
    "\n",
    "Обчислимо:\n",
    "\n",
    "$$\n",
    "|A_1 \\cap A_2| = |(P \\cap C) \\cap (P \\cap J)| = |P \\cap C \\cap J| = 3\n",
    "$$\n",
    "$$\n",
    "|A_1 \\cap A_3| = |(P \\cap C) \\cap (J \\cap C)| = |P \\cap C \\cap J| = 3\n",
    "$$\n",
    "$$\n",
    "|A_2 \\cap A_3| = |(P \\cap J) \\cap (J \\cap C)| = |P \\cap C \\cap J| = 3\n",
    "$$\n",
    "$$\n",
    "|A_1 \\cap A_2 \\cap A_3| = |P \\cap C \\cap J| = 3\n",
    "$$\n",
    "\n",
    "Отже:\n",
    "\n",
    "$$\n",
    "|A| = 10 + 7 + 8 - 3 - 3 - 3 + 3 = 22\n",
    "$$"
   ],
   "metadata": {
    "id": "NE6dRJKmy7za"
   }
  },
  {
   "metadata": {
    "ExecuteTime": {
     "end_time": "2025-05-17T23:56:34.333443Z",
     "start_time": "2025-05-17T23:56:34.328013Z"
    }
   },
   "cell_type": "code",
   "source": "",
   "outputs": [],
   "execution_count": null
  }
 ]
}
