{
 "cells": [
  {
   "metadata": {},
   "cell_type": "markdown",
   "source": [
    "# Завдання 1\n",
    "Виконай диференціювання функції та знайди значення похідних у точках\n",
    "x=1 і x=−1/2. Розв’яжи програмно та аналітично.\n",
    "\n",
    "## Функція №1\n",
    "$$\\frac{x^3}{3} + \\frac{x^2}{2} - 2x;$$\n",
    "$$\n",
    "\\left( \\frac{x^3}{3} + \\frac{x^2}{2} - 2x \\right)'\n",
    "= \\frac{3x^2 - x^3 \\cdot 0}{3} + \\frac{2x - x^2 \\cdot 0}{2} - 2\n",
    "= \\frac{3x^2}{3} + \\frac{2x}{2} - 2\n",
    "= x^2 + x - 2\n",
    "$$\n",
    "Підставляємо x=1\n",
    "$$\n",
    "x^2 + x - 2 = 1 + 1 - 2\n",
    "= 2 - 2\n",
    "= 0\n",
    "$$\n",
    "\n",
    "Підставляємо x = -1/2\n",
    "\n",
    "$$\n",
    "f'(x) = x^2 + x - 2\n",
    "$$\n",
    "\n",
    "Підставляємо $$ x = -\\frac{1}{2} $$:\n",
    "\n",
    "$$\n",
    "\\left(-\\frac{1}{2}\\right)^2 + \\left(-\\frac{1}{2}\\right) - 2\n",
    "= \\frac{1}{4} - \\frac{1}{2} - 2\n",
    "= \\frac{1}{2} - 2 = -2 \\frac{1}{4}\n",
    "$$"
   ],
   "id": "65194d017a681259"
  },
  {
   "cell_type": "code",
   "id": "initial_id",
   "metadata": {
    "collapsed": true,
    "ExecuteTime": {
     "end_time": "2025-05-11T12:18:40.856167Z",
     "start_time": "2025-05-11T12:18:40.841282Z"
    }
   },
   "source": [
    "import sympy as sp\n",
    "\n",
    "x = sp.Symbol('x')\n",
    "\n",
    "f = x**3/3 + x**2/2 - 2*x\n",
    "\n",
    "f = x**3/3 + x**2/2 - 2*x\n",
    "derivative = sp.diff(f, x)\n",
    "\n",
    "value_at_1 = derivative.subs(x, 1)\n",
    "print(f\"Значення похідної при x = 1: {value_at_1}\")\n",
    "\n",
    "# Обчислюємо значення в точці x = -1/2\n",
    "value_at_minus_half = derivative.subs(x, -1/2)\n",
    "print(f\"Значення похідної при x = -1/2: {value_at_minus_half}\")"
   ],
   "outputs": [
    {
     "name": "stdout",
     "output_type": "stream",
     "text": [
      "Значення похідної при x = 1: 0\n",
      "Значення похідної при x = -1/2: -2.25000000000000\n"
     ]
    }
   ],
   "execution_count": 86
  },
  {
   "metadata": {},
   "cell_type": "markdown",
   "source": [
    "## Функція №2\n",
    "$$f(x) = \\sqrt{x^2 + 1} = (x^2 + 1)^{\\frac{1}{2}}$$\n",
    "\n",
    "$$\n",
    "f'(x) = \\frac{1}{2}(x^2 + 1)^{-\\frac{1}{2}} \\cdot 2x\n",
    "= \\frac{2x}{2\\sqrt{x^2 + 1}}\n",
    "= \\frac{x}{\\sqrt{x^2 + 1}}\n",
    "$$\n",
    "\n",
    "Підставляємо x=1\n",
    "\n",
    "$$\n",
    "\\frac{1}{\\sqrt{2}}\n",
    "$$\n",
    "\n",
    "Підстаяємо x = -1/2\n",
    "\n",
    "$$\n",
    "\\frac{-\\frac{1}{2}}{\\sqrt{\\frac{1}{4} + 1}}\n",
    "= \\frac{-\\frac{1}{2}}{\\sqrt{\\frac{5}{4}}}\n",
    "= \\frac{-1}{2} \\cdot \\frac{1}{\\sqrt{\\frac{5}{4}}}\n",
    "= \\frac{-1}{2} \\cdot \\frac{1}{\\frac{\\sqrt{5}}{2}}\n",
    "= \\frac{-1}{2} \\cdot \\frac{2}{\\sqrt{5}}\n",
    "= \\frac{-1}{\\sqrt{5}}\n",
    "$$"
   ],
   "id": "4e6183d13174e63"
  },
  {
   "metadata": {
    "ExecuteTime": {
     "end_time": "2025-05-11T12:18:40.866335Z",
     "start_time": "2025-05-11T12:18:40.861897Z"
    }
   },
   "cell_type": "code",
   "source": [
    "import sympy as sp\n",
    "\n",
    "x = sp.Symbol('x')\n",
    "\n",
    "f = sp.sqrt(x**2 + 1)\n",
    "\n",
    "derivative = sp.diff(f, x)\n",
    "\n",
    "value_at_1 = derivative.subs(x, 1)\n",
    "print(f\"Значення похідної при x = 1: {value_at_1}\")\n",
    "\n",
    "# Обчислюємо значення в точці x = -1/2\n",
    "value_at_minus_half = derivative.subs(x, -1/2)\n",
    "print(f\"Значення похідної при x = -1/2: {value_at_minus_half}\")"
   ],
   "id": "fda77e9627b0697e",
   "outputs": [
    {
     "name": "stdout",
     "output_type": "stream",
     "text": [
      "Значення похідної при x = 1: sqrt(2)/2\n",
      "Значення похідної при x = -1/2: -0.447213595499958\n"
     ]
    }
   ],
   "execution_count": 87
  },
  {
   "metadata": {},
   "cell_type": "markdown",
   "source": [
    "## Функція №3\n",
    "$$\\frac{1}{\\sqrt{x^2 + 1}}.$$\n",
    "\n",
    "$$\n",
    "f(x) = \\frac{1}{\\sqrt{x^2 + 1}} = (x^2 + 1)^{-\\frac{1}{2}}\n",
    "$$\n",
    "$$\n",
    "f'(x) = \\left( (x^2 + 1)^{-\\frac{1}{2}} \\right)'\n",
    "= -\\frac{1}{2}(x^2 + 1)^{-\\frac{3}{2}} \\cdot (2x)\n",
    "= \\frac{-x}{(x^2 + 1)^{\\frac{3}{2}}} = \\frac{-x}{(\\sqrt{x^2 + 1})^3}\n",
    "$$\n",
    "\n",
    "Підставляємо х=1\n",
    "\n",
    "$$-\\frac{1}{(\\sqrt{2})^3}$$\n",
    "\n",
    "Підставляємо $$x = -\\frac{1}{2}$$\n",
    "\n",
    "$$\\frac{4\\sqrt{5}}{25}$$"
   ],
   "id": "d7e6d904b92ff8fd"
  },
  {
   "metadata": {
    "ExecuteTime": {
     "end_time": "2025-05-11T12:18:40.884495Z",
     "start_time": "2025-05-11T12:18:40.879203Z"
    }
   },
   "cell_type": "code",
   "source": [
    "import sympy as sp\n",
    "\n",
    "x = sp.Symbol('x')\n",
    "\n",
    "f = 1 / sp.sqrt(x**2 + 1)\n",
    "\n",
    "derivative = sp.diff(f, x)\n",
    "\n",
    "value_at_1 = derivative.subs(x, 1)\n",
    "print(f\"Значення похідної при x = 1: {value_at_1}\")\n",
    "\n",
    "# Обчислюємо значення в точці x = -1/2\n",
    "value_at_minus_half = derivative.subs(x, -1/2)\n",
    "print(f\"Значення похідної при x = -1/2: {value_at_minus_half}\")"
   ],
   "id": "17ebd82ee14da374",
   "outputs": [
    {
     "name": "stdout",
     "output_type": "stream",
     "text": [
      "Значення похідної при x = 1: -sqrt(2)/4\n",
      "Значення похідної при x = -1/2: 0.357770876399966\n"
     ]
    }
   ],
   "execution_count": 88
  },
  {
   "metadata": {},
   "cell_type": "markdown",
   "source": [
    "# Завдання 2\n",
    "\n",
    "Аналітично виконай диференціювання функції та знайди точку максимуму. Програмно візуалізуй функцію, її похідну та точку максимуму.\n",
    "\n",
    "$$y =− 3x^2 + 30x$$\n",
    "$$\n",
    "\\begin{aligned}\n",
    "&y = -3x^2 + 30x \\\\\n",
    "&y' = \\frac{dy}{dx} = -6x + 30 \\\\\n",
    "&-6x + 30 = 0 \\quad \\Rightarrow \\quad x = 5 \\\\\n",
    "\\end{aligned}\n",
    "$$\n",
    "\n",
    "Оскільки розвʼязок останньої рівності є лише один: x = 5\n",
    "\n",
    "$$\n",
    "\\begin{aligned}\n",
    "&y'' = \\frac{d^2y}{dx^2} = -6\n",
    "\\end{aligned}\n",
    "$$\n",
    "\n",
    "Завжди менше 0, отже, мінімумів немає, а макчимум у точці 5.\n",
    "Малюємо графік функції:"
   ],
   "id": "c318faceb18d3876"
  },
  {
   "metadata": {
    "ExecuteTime": {
     "end_time": "2025-05-11T12:18:40.917171Z",
     "start_time": "2025-05-11T12:18:40.913159Z"
    }
   },
   "cell_type": "code",
   "source": [
    "import numpy as np\n",
    "import sympy as sp\n",
    "import matplotlib.pyplot as plt\n",
    "from sympy import symbols, diff\n",
    "\n",
    "def find_extremums(f):\n",
    "    extremums_ = {\"min\": None, \"max\": None}\n",
    "    x = symbols('x')\n",
    "    f_der = diff(f, x)\n",
    "    f_der_2 = sp.diff(derivative, x)\n",
    "\n",
    "    critical_points = sp.solve(f_der, x)\n",
    "\n",
    "    for critical_point in critical_points:\n",
    "        critical_point_value = f_der_2.subs(x, critical_point)\n",
    "        if critical_point_value > 0:\n",
    "            extremums_[\"min\"] = critical_point\n",
    "        elif critical_point_value < 0:\n",
    "            extremums_[\"max\"] = critical_point\n",
    "\n",
    "    return extremums_\n",
    "\n",
    "def plot_function_with_derivative(f, f_der, max_x):\n",
    "    x = symbols('x')\n",
    "\n",
    "    # Створюємо точки для побудови графіку\n",
    "    x_vals = np.linspace(-max_x * 10, max_x * 10, 1000)\n",
    "    f_vals = [f.subs(x, val) for val in x_vals]\n",
    "    f_der_vals = [f_der.subs(x, val) for val in x_vals]\n",
    "\n",
    "    # Створюємо графік\n",
    "    plt.figure(figsize=(10, 10))\n",
    "    plt.plot(x_vals, f_vals, 'b-', label='Функція')\n",
    "    plt.plot(x_vals, f_der_vals, 'r-', label='Похідна')\n",
    "\n",
    "    # Додаємо точку максимуму\n",
    "    max_y = f.subs(x, max_x)\n",
    "    plt.plot(max_x, max_y, 'go', label='Точка максимуму')\n",
    "\n",
    "    plt.grid(True)\n",
    "    plt.legend()\n",
    "    plt.axhline(y=0, color='k', linestyle='-', alpha=0.3)\n",
    "    plt.axvline(x=0, color='k', linestyle='-', alpha=0.3)\n",
    "    plt.show()\n"
   ],
   "id": "dc4185eae4fb814e",
   "outputs": [],
   "execution_count": 89
  },
  {
   "metadata": {
    "ExecuteTime": {
     "end_time": "2025-05-11T12:18:40.967669Z",
     "start_time": "2025-05-11T12:18:40.926370Z"
    }
   },
   "cell_type": "code",
   "source": [
    "from sympy.plotting import plot\n",
    "from sympy import symbols, diff\n",
    "\n",
    "x = symbols('x')\n",
    "y = -3*x**2 + 30*x\n",
    "y_d = diff(y, x)\n",
    "\n",
    "extremums = find_extremums(y)\n",
    "\n",
    "plot_function_with_derivative(y, y_d, extremums[\"max\"])"
   ],
   "id": "64918032d0d4fd39",
   "outputs": [
    {
     "ename": "TypeError",
     "evalue": "bad operand type for unary -: 'NoneType'",
     "output_type": "error",
     "traceback": [
      "\u001B[31m---------------------------------------------------------------------------\u001B[39m",
      "\u001B[31mTypeError\u001B[39m                                 Traceback (most recent call last)",
      "\u001B[36mCell\u001B[39m\u001B[36m \u001B[39m\u001B[32mIn[90]\u001B[39m\u001B[32m, line 10\u001B[39m\n\u001B[32m      6\u001B[39m y_d = diff(y, x)\n\u001B[32m      8\u001B[39m extremums = find_extremums(y)\n\u001B[32m---> \u001B[39m\u001B[32m10\u001B[39m \u001B[43mplot_function_with_derivative\u001B[49m\u001B[43m(\u001B[49m\u001B[43my\u001B[49m\u001B[43m,\u001B[49m\u001B[43m \u001B[49m\u001B[43my_d\u001B[49m\u001B[43m,\u001B[49m\u001B[43m \u001B[49m\u001B[43mextremums\u001B[49m\u001B[43m[\u001B[49m\u001B[33;43m\"\u001B[39;49m\u001B[33;43mmax\u001B[39;49m\u001B[33;43m\"\u001B[39;49m\u001B[43m]\u001B[49m\u001B[43m)\u001B[49m\n",
      "\u001B[36mCell\u001B[39m\u001B[36m \u001B[39m\u001B[32mIn[89]\u001B[39m\u001B[32m, line 27\u001B[39m, in \u001B[36mplot_function_with_derivative\u001B[39m\u001B[34m(f, f_der, max_x)\u001B[39m\n\u001B[32m     24\u001B[39m x = symbols(\u001B[33m'\u001B[39m\u001B[33mx\u001B[39m\u001B[33m'\u001B[39m)\n\u001B[32m     26\u001B[39m \u001B[38;5;66;03m# Створюємо точки для побудови графіку\u001B[39;00m\n\u001B[32m---> \u001B[39m\u001B[32m27\u001B[39m x_vals = np.linspace(\u001B[43m-\u001B[49m\u001B[43mmax_x\u001B[49m * \u001B[32m10\u001B[39m, max_x * \u001B[32m10\u001B[39m, \u001B[32m1000\u001B[39m)\n\u001B[32m     28\u001B[39m f_vals = [f.subs(x, val) \u001B[38;5;28;01mfor\u001B[39;00m val \u001B[38;5;129;01min\u001B[39;00m x_vals]\n\u001B[32m     29\u001B[39m f_der_vals = [f_der.subs(x, val) \u001B[38;5;28;01mfor\u001B[39;00m val \u001B[38;5;129;01min\u001B[39;00m x_vals]\n",
      "\u001B[31mTypeError\u001B[39m: bad operand type for unary -: 'NoneType'"
     ]
    }
   ],
   "execution_count": 90
  },
  {
   "metadata": {},
   "cell_type": "code",
   "outputs": [],
   "execution_count": null,
   "source": "",
   "id": "a57390e29a8847a5"
  }
 ],
 "metadata": {
  "kernelspec": {
   "display_name": "Python 3",
   "language": "python",
   "name": "python3"
  },
  "language_info": {
   "codemirror_mode": {
    "name": "ipython",
    "version": 2
   },
   "file_extension": ".py",
   "mimetype": "text/x-python",
   "name": "python",
   "nbconvert_exporter": "python",
   "pygments_lexer": "ipython2",
   "version": "2.7.6"
  }
 },
 "nbformat": 4,
 "nbformat_minor": 5
}
