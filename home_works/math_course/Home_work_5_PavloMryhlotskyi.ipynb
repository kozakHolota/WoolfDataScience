{
 "cells": [
  {
   "metadata": {},
   "cell_type": "markdown",
   "source": [
    "# Завдання 1\n",
    "Виконай диференціювання функції та знайди значення похідних у точках\n",
    "x=1 і x=−1/2. Розв’яжи програмно та аналітично.\n",
    "\n",
    "## Функція №1\n",
    "$$\\frac{x^3}{3} + \\frac{x^2}{2} - 2x;$$\n",
    "$$\n",
    "\\left( \\frac{x^3}{3} + \\frac{x^2}{2} - 2x \\right)'\n",
    "= \\frac{3x^2 - x^3 \\cdot 0}{3} + \\frac{2x - x^2 \\cdot 0}{2} - 2\n",
    "= \\frac{3x^2}{3} + \\frac{2x}{2} - 2\n",
    "= x^2 + x - 2\n",
    "$$\n",
    "Підставляємо x=1\n",
    "$$\n",
    "x^2 + x - 2 = 1 + 1 - 2\n",
    "= 2 - 2\n",
    "= 0\n",
    "$$\n",
    "\n",
    "Підставляємо x = -1/2\n",
    "\n",
    "$$\n",
    "f'(x) = x^2 + x - 2\n",
    "$$\n",
    "\n",
    "Підставляємо $$ x = -\\frac{1}{2} $$:\n",
    "\n",
    "$$\n",
    "\\left(-\\frac{1}{2}\\right)^2 + \\left(-\\frac{1}{2}\\right) - 2\n",
    "= \\frac{1}{4} - \\frac{1}{2} - 2\n",
    "= \\frac{1}{2} - 2 = -2 \\frac{1}{4}\n",
    "$$"
   ],
   "id": "65194d017a681259"
  },
  {
   "cell_type": "code",
   "id": "initial_id",
   "metadata": {
    "collapsed": true,
    "ExecuteTime": {
     "end_time": "2025-05-07T18:26:23.928467Z",
     "start_time": "2025-05-07T18:26:23.641889Z"
    }
   },
   "source": [
    "import sympy as sp\n",
    "\n",
    "x = sp.Symbol('x')\n",
    "\n",
    "f = x**3/3 + x**2/2 - 2*x\n",
    "\n",
    "f = x**3/3 + x**2/2 - 2*x\n",
    "derivative = sp.diff(f, x)\n",
    "\n",
    "value_at_1 = derivative.subs(x, 1)\n",
    "print(f\"Значення похідної при x = 1: {value_at_1}\")\n",
    "\n",
    "# Обчислюємо значення в точці x = -1/2\n",
    "value_at_minus_half = derivative.subs(x, -1/2)\n",
    "print(f\"Значення похідної при x = -1/2: {value_at_minus_half}\")"
   ],
   "outputs": [
    {
     "name": "stdout",
     "output_type": "stream",
     "text": [
      "Значення похідної при x = 1: 0\n",
      "Значення похідної при x = -1/2: -2.25000000000000\n"
     ]
    }
   ],
   "execution_count": 1
  },
  {
   "metadata": {},
   "cell_type": "markdown",
   "source": [
    "## Функція №2\n",
    "$$f(x) = \\sqrt{x^2 + 1} = (x^2 + 1)^{\\frac{1}{2}}$$\n",
    "\n",
    "$$\n",
    "f'(x) = \\frac{1}{2}(x^2 + 1)^{-\\frac{1}{2}} \\cdot 2x\n",
    "= \\frac{2x}{2\\sqrt{x^2 + 1}}\n",
    "= \\frac{x}{\\sqrt{x^2 + 1}}\n",
    "$$\n",
    "\n",
    "Підставляємо x=1\n",
    "\n",
    "$$\n",
    "\\frac{1}{\\sqrt{2}}\n",
    "$$\n",
    "\n",
    "Підстаяємо x = -1/2\n",
    "\n",
    "$$\n",
    "\\frac{-\\frac{1}{2}}{\\sqrt{\\frac{1}{4} + 1}}\n",
    "= \\frac{-\\frac{1}{2}}{\\sqrt{\\frac{5}{4}}}\n",
    "= \\frac{-1}{2} \\cdot \\frac{1}{\\sqrt{\\frac{5}{4}}}\n",
    "= \\frac{-1}{2} \\cdot \\frac{1}{\\frac{\\sqrt{5}}{2}}\n",
    "= \\frac{-1}{2} \\cdot \\frac{2}{\\sqrt{5}}\n",
    "= \\frac{-1}{\\sqrt{5}}\n",
    "$$"
   ],
   "id": "4e6183d13174e63"
  },
  {
   "metadata": {
    "ExecuteTime": {
     "end_time": "2025-05-07T18:44:07.695670Z",
     "start_time": "2025-05-07T18:44:07.691828Z"
    }
   },
   "cell_type": "code",
   "source": [
    "import sympy as sp\n",
    "\n",
    "x = sp.Symbol('x')\n",
    "\n",
    "f = sp.sqrt(x**2 + 1)\n",
    "\n",
    "derivative = sp.diff(f, x)\n",
    "\n",
    "value_at_1 = derivative.subs(x, 1)\n",
    "print(f\"Значення похідної при x = 1: {value_at_1}\")\n",
    "\n",
    "# Обчислюємо значення в точці x = -1/2\n",
    "value_at_minus_half = derivative.subs(x, -1/2)\n",
    "print(f\"Значення похідної при x = -1/2: {value_at_minus_half}\")"
   ],
   "id": "fda77e9627b0697e",
   "outputs": [
    {
     "name": "stdout",
     "output_type": "stream",
     "text": [
      "Значення похідної при x = 1: sqrt(2)/2\n",
      "Значення похідної при x = -1/2: -0.447213595499958\n"
     ]
    }
   ],
   "execution_count": 5
  },
  {
   "metadata": {},
   "cell_type": "markdown",
   "source": [
    "## Функція №3\n",
    "$$\\frac{1}{\\sqrt{x^2 + 1}}.$$\n",
    "\n",
    "$$\n",
    "f(x) = \\frac{1}{\\sqrt{x^2 + 1}} = (x^2 + 1)^{-\\frac{1}{2}}\n",
    "$$\n",
    "$$\n",
    "f'(x) = \\left( (x^2 + 1)^{-\\frac{1}{2}} \\right)'\n",
    "= -\\frac{1}{2}(x^2 + 1)^{-\\frac{3}{2}} \\cdot (2x)\n",
    "= \\frac{-x}{(x^2 + 1)^{\\frac{3}{2}}} = \\frac{-x}{\\sqrt{x^2 + 1}}\n",
    "$$\n",
    "\n",
    "Підставляємо х=1\n",
    "\n",
    "$$-\\frac{1}{\\sqrt{2}}$$\n",
    "\n",
    "Підставляємо $$x = -\\frac{1}{2}$$\n",
    "\n",
    "$$\\frac{2}{\\sqrt{5}}$$"
   ],
   "id": "97c91ab61baf5cba"
  },
  {
   "metadata": {
    "ExecuteTime": {
     "end_time": "2025-05-07T18:45:01.297609Z",
     "start_time": "2025-05-07T18:45:01.292338Z"
    }
   },
   "cell_type": "code",
   "source": [
    "import sympy as sp\n",
    "\n",
    "x = sp.Symbol('x')\n",
    "\n",
    "f = 1 / sp.sqrt(x**2 + 1)\n",
    "\n",
    "derivative = sp.diff(f, x)\n",
    "\n",
    "value_at_1 = derivative.subs(x, 1)\n",
    "print(f\"Значення похідної при x = 1: {value_at_1}\")\n",
    "\n",
    "# Обчислюємо значення в точці x = -1/2\n",
    "value_at_minus_half = derivative.subs(x, -1/2)\n",
    "print(f\"Значення похідної при x = -1/2: {value_at_minus_half}\")"
   ],
   "id": "950477c08c19b538",
   "outputs": [
    {
     "name": "stdout",
     "output_type": "stream",
     "text": [
      "Значення похідної при x = 1: -sqrt(2)/4\n",
      "Значення похідної при x = -1/2: 0.357770876399966\n"
     ]
    }
   ],
   "execution_count": 6
  },
  {
   "metadata": {},
   "cell_type": "markdown",
   "source": [
    "# Завдання 2\n",
    "\n",
    "Аналітично виконай диференціювання функції та знайди точку максимуму. Програмно візуалізуй функцію, її похідну та точку максимуму.\n",
    "\n",
    "$$y =− 3x^2 + 30x$$\n",
    "$$\n",
    "\\begin{aligned}\n",
    "&y = -3x^2 + 30x \\\\\n",
    "&y' = \\frac{dy}{dx} = -6x + 30 \\\\\n",
    "&-6x + 30 = 0 \\quad \\Rightarrow \\quad x = 5 \\\\\n",
    "\\end{aligned}\n",
    "$$\n",
    "\n",
    "Оскільки розвʼязок останньої рівності є лише один: x = 5\n",
    "\n",
    "$$\n",
    "\\begin{aligned}\n",
    "&y'' = \\frac{d^2y}{dx^2} = -6\n",
    "\\end{aligned}\n",
    "$$\n",
    "\n",
    "Завжди менше 0, отже, мінімумів немає, а макчимум у точці 5.\n",
    "Малюємо графік функції:"
   ],
   "id": "64615806bcdc0d5e"
  },
  {
   "metadata": {
    "ExecuteTime": {
     "end_time": "2025-05-10T21:03:32.819235Z",
     "start_time": "2025-05-10T21:03:32.812628Z"
    }
   },
   "cell_type": "code",
   "source": [
    "import numpy as np\n",
    "import sympy as sp\n",
    "import matplotlib.pyplot as plt\n",
    "from sympy import symbols, diff\n",
    "\n",
    "\n",
    "def find_extremums(f):\n",
    "    extremums_ = {\"min\": None, \"max\": None}\n",
    "    x = symbols('x')\n",
    "    f_der = diff(f, x)\n",
    "    f_der_2 = sp.diff(f_der, x)\n",
    "\n",
    "    critical_points = sp.solve(f_der, x)\n",
    "\n",
    "    for critical_point in critical_points:\n",
    "        critical_point_value = f_der_2.subs(x, critical_point)\n",
    "        if critical_point_value > 0:\n",
    "            extremums_[\"min\"] = critical_point\n",
    "        elif critical_point_value < 0:\n",
    "            extremums_[\"max\"] = critical_point\n",
    "\n",
    "    return extremums_\n",
    "\n",
    "\n",
    "def plot_function_with_derivative(f, f_der, max_x):\n",
    "    x = symbols('x')\n",
    "\n",
    "    # Створюємо точки для побудови графіку\n",
    "    x_vals = np.linspace(-max_x * 10, max_x * 10, 1000)\n",
    "    f_vals = [f.subs(x, val) for val in x_vals]\n",
    "    f_der_vals = [f_der.subs(x, val) for val in x_vals]\n",
    "\n",
    "    # Створюємо графік\n",
    "    plt.figure(figsize=(10, 10))\n",
    "    plt.plot(x_vals, f_vals, 'b-', label='Функція')\n",
    "    plt.plot(x_vals, f_der_vals, 'r-', label='Похідна')\n",
    "\n",
    "    # Додаємо точку максимуму\n",
    "    max_y = f.subs(x, max_x)\n",
    "    plt.plot(max_x, max_y, 'go', label='Точка максимуму')\n",
    "\n",
    "    plt.grid(True)\n",
    "    plt.legend()\n",
    "    plt.axhline(y=0, color='k', linestyle='-', alpha=0.3)\n",
    "    plt.axvline(x=0, color='k', linestyle='-', alpha=0.3)\n",
    "    plt.show()\n"
   ],
   "id": "599b3596ee078422",
   "outputs": [],
   "execution_count": 83
  },
  {
   "metadata": {
    "ExecuteTime": {
     "end_time": "2025-05-10T21:03:35.894228Z",
     "start_time": "2025-05-10T21:03:35.604314Z"
    }
   },
   "cell_type": "code",
   "source": [
    "from sympy.plotting import plot\n",
    "from sympy import symbols, diff\n",
    "\n",
    "x = symbols('x')\n",
    "y = -3*x**2 + 30*x\n",
    "y_d = diff(y, x)\n",
    "\n",
    "extremums = find_extremums(y)\n",
    "\n",
    "plot_function_with_derivative(y, y_d, extremums[\"max\"])"
   ],
   "id": "74497365728ed5ab",
   "outputs": [
    {
     "data": {
      "text/plain": [
       "<Figure size 1000x1000 with 1 Axes>"
      ],
      "image/png": "[encoded data removed]"
     },
     "metadata": {},
     "output_type": "display_data"
    }
   ],
   "execution_count": 84
  },
  {
   "metadata": {
    "ExecuteTime": {
     "end_time": "2025-05-10T21:05:24.991094Z",
     "start_time": "2025-05-10T21:05:24.987142Z"
    }
   },
   "cell_type": "code",
   "source": "print(f\"Мінімум функції: {extremums['min']}\" if extremums['min'] else \"Функція не має мінімуму\")",
   "id": "886ce46b8ac85099",
   "outputs": [
    {
     "name": "stdout",
     "output_type": "stream",
     "text": [
      "Функція не має мінімуму\n"
     ]
    }
   ],
   "execution_count": 85
  }
 ],
 "metadata": {
  "kernelspec": {
   "display_name": "Python 3",
   "language": "python",
   "name": "python3"
  },
  "language_info": {
   "codemirror_mode": {
    "name": "ipython",
    "version": 2
   },
   "file_extension": ".py",
   "mimetype": "text/x-python",
   "name": "python",
   "nbconvert_exporter": "python",
   "pygments_lexer": "ipython2",
   "version": "2.7.6"
  }
 },
 "nbformat": 4,
 "nbformat_minor": 5
}
