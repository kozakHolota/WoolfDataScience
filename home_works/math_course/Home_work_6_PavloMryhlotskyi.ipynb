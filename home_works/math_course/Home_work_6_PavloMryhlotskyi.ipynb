{
 "cells": [
  {
   "metadata": {},
   "cell_type": "markdown",
   "source": [
    "# Маємо формулу\n",
    "Ти замовив/-ла виконання дослідження ефективності роботи співробітників і отримав/-ла наближену залежність ефективності роботи (кількість тасків за одиницю часу) від часу доби, за умови, що завдання однакові за складністю.\n",
    "\n",
    "$$\n",
    "2 \\left(\n",
    "\\frac{4}{1.2 \\sqrt{2\\pi}} e^{ -\\frac{1}{2} \\left( \\frac{x - 11}{1.2} \\right)^2 } +\n",
    "\\frac{7}{2.4 \\sqrt{2\\pi}} e^{ -\\frac{1}{2} \\left( \\frac{x - 15}{2.4} \\right)^2 }\n",
    "\\right)\n",
    "$$\n",
    "\n",
    "Позначимо початок і кінець робочого дня як a=9 та b=18 відповідно.\n",
    "Тобі буде потрібно порахувати середню кількість тасків, виконаних упродовж робочого дня (в робочі години з 9 до 18).\n",
    "\n",
    "# Завдання №1\n",
    "Візуалізуй функцію на відрізку від 0 до 24. За допомогою *SymPy* порахуй невизначений інтеграл функції та інтеграл від *a* до *b*."
   ],
   "id": "8e482722dd5bc000"
  },
  {
   "metadata": {
    "ExecuteTime": {
     "end_time": "2025-05-25T17:06:48.879588Z",
     "start_time": "2025-05-25T17:06:48.802541Z"
    }
   },
   "cell_type": "code",
   "source": [
    "from sympy import sqrt, pi, exp, Symbol\n",
    "from sympy.plotting import plot\n",
    "\n",
    "x = Symbol('x')\n",
    "f = 2 * (\n",
    "    (4 / (1.2 * sqrt(2 * pi))) * exp(-1/2 * ((x - 11)/1.2)**2) +\n",
    "    (7 / (2.4 * sqrt(2 * pi))) * exp(-1/2 * ((x - 15)/2.4)**2)\n",
    ")\n",
    "\n",
    "p = plot(f, (x, 0, 24), show=False, line_color='red')\n",
    "p.title = 'Візуалізація f(x) на відрузку часу 0 - 24'\n",
    "p.show()"
   ],
   "id": "d9899d76d75b121a",
   "outputs": [
    {
     "data": {
      "text/plain": [
       "<Figure size 640x480 with 1 Axes>"
      ],
      "image/png": "[encoded data removed]"
     },
     "metadata": {},
     "output_type": "display_data"
    }
   ],
   "execution_count": 109
  },
  {
   "metadata": {
    "ExecuteTime": {
     "end_time": "2025-05-25T17:06:49.407098Z",
     "start_time": "2025-05-25T17:06:48.889397Z"
    }
   },
   "cell_type": "code",
   "source": [
    "from sympy import integrate\n",
    "\n",
    "print(\"Невизначений інтеграл: \" + str(integrate(f, x)))\n",
    "print(\"Визначений інтеграл на відрізку від 9 до 18 \" + str(integrate(f, (x, 9, 18)).evalf()))"
   ],
   "id": "d0c33f3a3fa5c8c3",
   "outputs": [
    {
     "name": "stdout",
     "output_type": "stream",
     "text": [
      "Невизначений інтеграл: 4.94974746830583*sqrt(2)*erf(0.294627825494395*x - 4.41941738241592) + 2.82842712474619*sqrt(2)*erf(0.58925565098879*x - 6.48181216087669)\n",
      "Визначений інтеграл на відрізку від 9 до 18 20.0516450141883\n"
     ]
    }
   ],
   "execution_count": 110
  },
  {
   "metadata": {},
   "cell_type": "markdown",
   "source": [
    "# Завдання 2\n",
    "\n",
    "Напиши функцію чисельного інтегрування методом прямокутників та порахуй інтеграл від *a* до *b*."
   ],
   "id": "119cfeafc6728e06"
  },
  {
   "metadata": {
    "ExecuteTime": {
     "end_time": "2025-05-25T17:06:49.422422Z",
     "start_time": "2025-05-25T17:06:49.418436Z"
    }
   },
   "cell_type": "code",
   "source": [
    "def rectangle_method(f, x, a, b, n):\n",
    "    \"\"\"Рахуємо по середніх прямокутниках\"\"\"\n",
    "    h = (b - a) / n\n",
    "    f_ = lambdify(x, f, 'numpy')\n",
    "    middle_points = [a + (i + 0.5) * h for i in range(n)]\n",
    "\n",
    "    return h * sum(f_(x_) for x_ in middle_points)\n",
    "\n",
    "print(\"Інтеграл методом трикутників \" + str(rectangle_method(f, x, 9, 18, 17)))"
   ],
   "id": "f5388ae723a4cdab",
   "outputs": [
    {
     "name": "stdout",
     "output_type": "stream",
     "text": [
      "Інтеграл методом трикутників 20.07014536393186\n"
     ]
    }
   ],
   "execution_count": 111
  },
  {
   "metadata": {},
   "cell_type": "markdown",
   "source": [
    "# Завдання 3\n",
    "Напиши функцію чисельного інтегрування методом трапецій та порахуй інтеграл від *a* до *b*."
   ],
   "id": "ffa98858185183c9"
  },
  {
   "metadata": {
    "ExecuteTime": {
     "end_time": "2025-05-25T17:06:49.454186Z",
     "start_time": "2025-05-25T17:06:49.450080Z"
    }
   },
   "cell_type": "code",
   "source": [
    "def trapezoid_method(f, x, a, b, n):\n",
    "    h = (b - a) / n\n",
    "    f_ = lambdify(x, f, 'numpy')\n",
    "\n",
    "    points = [a + (i * h) for i in range(n + 1)]\n",
    "\n",
    "    return (h/2) * (f_(points[0]) + sum(2*f_(x_) for x_ in points[1:-1]) + f_(points[-1]))\n",
    "\n",
    "print(\"Інтеграл методом трапецій \" + str(trapezoid_method(f, x, 9, 18, 17)))"
   ],
   "id": "da510c59d56fc6c4",
   "outputs": [
    {
     "name": "stdout",
     "output_type": "stream",
     "text": [
      "Інтеграл методом трапецій 20.014660753314047\n"
     ]
    }
   ],
   "execution_count": 112
  },
  {
   "metadata": {},
   "cell_type": "markdown",
   "source": [
    "# Завдання 4\n",
    "Напиши функцію чисельного інтегрування методом Сімпсона та порахуй інтеграл від *a* до *b*."
   ],
   "id": "ea82b1f8fcb11047"
  },
  {
   "metadata": {
    "ExecuteTime": {
     "end_time": "2025-05-25T17:06:49.475875Z",
     "start_time": "2025-05-25T17:06:49.470347Z"
    }
   },
   "cell_type": "code",
   "source": [
    "def simpson_method(f, x, a, b, n):\n",
    "    h = (b - a) / n\n",
    "    f_ = lambdify(x, f, 'numpy')\n",
    "    points = [a + (i * h) for i in range(n + 1)]\n",
    "\n",
    "    return (h/3) * (f_(points[0]) + sum(2*f_(x_) if i % 2 == 0 else 4*f_(x_) for x_, i in zip(points, range(1, n))) + f_(points[-1]))\n",
    "\n",
    "print(\"Інтеграл методом Сімпсона \" + str(simpson_method(f, x, 9, 18, 17)))"
   ],
   "id": "4490bcd69a264555",
   "outputs": [
    {
     "name": "stdout",
     "output_type": "stream",
     "text": [
      "Інтеграл методом Сімпсона 19.441866500337728\n"
     ]
    }
   ],
   "execution_count": 113
  },
  {
   "metadata": {},
   "cell_type": "markdown",
   "source": [
    "# Завдання 5\n",
    "Порахуй інтеграл від *a* до *b* за допомогою функції *scipy.integrate.quad*."
   ],
   "id": "36b6cf44cd02bc1e"
  },
  {
   "metadata": {
    "ExecuteTime": {
     "end_time": "2025-05-25T17:06:49.500460Z",
     "start_time": "2025-05-25T17:06:49.496322Z"
    }
   },
   "cell_type": "code",
   "source": [
    "from sympy import lambdify\n",
    "from scipy.integrate import quad\n",
    "# Перетворюємо символьний вираз в функцію Python\n",
    "f_numpy = lambdify(x, f, 'numpy')\n",
    "\n",
    "# Обчислюємо інтеграл\n",
    "result, error = quad(f_numpy, 9, 18)\n",
    "\n",
    "print(f\"Інтеграл за допомогою scipy.integrate.quad: {result}\")\n",
    "print(f\"Оцінка похибки: {error}\")\n"
   ],
   "id": "c49aa6d6c3b3147f",
   "outputs": [
    {
     "name": "stdout",
     "output_type": "stream",
     "text": [
      "Інтеграл за допомогою scipy.integrate.quad: 20.05164501418832\n",
      "Оцінка похибки: 1.2672390114804206e-11\n"
     ]
    }
   ],
   "execution_count": 114
  }
 ],
 "metadata": {
  "kernelspec": {
   "display_name": "Python 3",
   "language": "python",
   "name": "python3"
  },
  "language_info": {
   "codemirror_mode": {
    "name": "ipython",
    "version": 2
   },
   "file_extension": ".py",
   "mimetype": "text/x-python",
   "name": "python",
   "nbconvert_exporter": "python",
   "pygments_lexer": "ipython2",
   "version": "2.7.6"
  }
 },
 "nbformat": 4,
 "nbformat_minor": 5
}
