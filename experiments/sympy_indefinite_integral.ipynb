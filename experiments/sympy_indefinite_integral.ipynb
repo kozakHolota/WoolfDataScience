{
 "cells": [
  {
   "cell_type": "code",
   "execution_count": null,
   "id": "initial_id",
   "metadata": {
    "collapsed": true
   },
   "outputs": [],
   "source": [
    "from sympy import *\n",
    "init_printing(use_unicode=True)"
   ]
  },
  {
   "metadata": {},
   "cell_type": "code",
   "outputs": [],
   "execution_count": null,
   "source": [
    "x = Symbol('x')\n",
    "\n",
    "integral = integrate(x**2, x)\n",
    "print(\"∫x²dx =\", integral)"
   ],
   "id": "7eece6f6037306eb"
  },
  {
   "metadata": {},
   "cell_type": "code",
   "outputs": [],
   "execution_count": null,
   "source": [
    "integral_sin = integrate(sin(x), x)\n",
    "print(\"∫sin(x)dx =\", integral_sin)\n",
    "\n",
    "integral_cos = integrate(cos(x), x)\n",
    "print(\"∫cos(x)dx =\", integral_cos)"
   ],
   "id": "d6175c3699685a20"
  },
  {
   "metadata": {},
   "cell_type": "code",
   "outputs": [],
   "execution_count": null,
   "source": [
    "integral_exp = integrate(exp(x), x)\n",
    "print(\"∫e^x dx =\", integral_exp)\n",
    "\n",
    "integral_log = integrate(1/x, x)\n",
    "print(\"∫1/x dx =\", integral_log)\n",
    "\n",
    "expr = x**2 * sin(x)\n",
    "integral_complex = integrate(expr, x)\n",
    "print(\"∫x²sin(x)dx =\", integral_complex)"
   ],
   "id": "4efb618407e940f8"
  },
  {
   "metadata": {},
   "cell_type": "code",
   "outputs": [],
   "execution_count": null,
   "source": [
    "rational = 1/(x**2 + 1)\n",
    "integral_rational = integrate(rational, x)\n",
    "print(\"∫1/(x² + 1)dx =\", integral_rational)\n",
    "\n",
    "complex_fraction = x/(x**2 + 1)\n",
    "integral_complex_fraction = integrate(complex_fraction, x)\n",
    "print(\"∫x/(x² + 1)dx =\", integral_complex_fraction)"
   ],
   "id": "9773a401f4b3858b"
  },
  {
   "metadata": {},
   "cell_type": "code",
   "outputs": [],
   "execution_count": null,
   "source": [
    "f = x**3 + 2*x\n",
    "integral_result = integrate(f, x)\n",
    "\n",
    "derivative = diff(integral_result, x)\n",
    "print(\"Початкова функція:\", f)\n",
    "print(\"Інтеграл:\", integral_result)\n",
    "print(\"Похідна від інтегралу:\", derivative)\n",
    "print(\"Перевірка рівності:\", simplify(f - derivative) == 0)"
   ],
   "id": "ebd8dd5d8de4190d"
  },
  {
   "metadata": {},
   "cell_type": "code",
   "outputs": [],
   "execution_count": null,
   "source": [
    "try:\n",
    "    difficult_integral = integrate(exp(-x**2), x)\n",
    "    print(\"Інтеграл від e^(-x²):\", difficult_integral)\n",
    "except Exception as e:\n",
    "    print(\"Неможливо знайти елементарний розв'язок\")"
   ],
   "id": "17990a2052b6aeec"
  }
 ],
 "metadata": {
  "kernelspec": {
   "display_name": "Python 3",
   "language": "python",
   "name": "python3"
  },
  "language_info": {
   "codemirror_mode": {
    "name": "ipython",
    "version": 2
   },
   "file_extension": ".py",
   "mimetype": "text/x-python",
   "name": "python",
   "nbconvert_exporter": "python",
   "pygments_lexer": "ipython2",
   "version": "2.7.6"
  }
 },
 "nbformat": 4,
 "nbformat_minor": 5
}
