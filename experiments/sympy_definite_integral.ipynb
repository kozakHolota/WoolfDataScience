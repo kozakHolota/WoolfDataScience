{
 "cells": [
  {
   "cell_type": "code",
   "id": "initial_id",
   "metadata": {
    "collapsed": true,
    "ExecuteTime": {
     "end_time": "2025-05-24T12:30:06.478392Z",
     "start_time": "2025-05-24T12:30:06.476092Z"
    }
   },
   "source": [
    "from sympy import *\n",
    "init_printing(use_unicode=True)"
   ],
   "outputs": [],
   "execution_count": 5
  },
  {
   "metadata": {
    "ExecuteTime": {
     "end_time": "2025-05-24T12:30:06.493143Z",
     "start_time": "2025-05-24T12:30:06.488820Z"
    }
   },
   "cell_type": "code",
   "source": [
    "x = Symbol('x')\n",
    "\n",
    "integral = integrate(x**2, (x, 0, 1))\n",
    "print(f\"∫₀¹ x² dx = {integral}\")"
   ],
   "id": "d23f1bb5aa3e6ebb",
   "outputs": [
    {
     "name": "stdout",
     "output_type": "stream",
     "text": [
      "∫₀¹ x² dx = 1/3\n"
     ]
    }
   ],
   "execution_count": 6
  },
  {
   "metadata": {
    "ExecuteTime": {
     "end_time": "2025-05-24T12:30:06.536519Z",
     "start_time": "2025-05-24T12:30:06.526143Z"
    }
   },
   "cell_type": "code",
   "source": [
    "integral_sin = integrate(sin(x), (x, 0, pi))\n",
    "print(f\"∫₀ᵖⁱ sin(x) dx = {integral_sin}\")\n",
    "\n",
    "integral_cos = integrate(cos(x), (x, -pi/2, pi/2))\n",
    "print(f\"∫₍₋ᵖⁱ/₂₎ᵖⁱ/² cos(x) dx = {integral_cos}\")"
   ],
   "id": "8ac8c89a81bbfda4",
   "outputs": [
    {
     "name": "stdout",
     "output_type": "stream",
     "text": [
      "∫₀ᵖⁱ sin(x) dx = 2\n",
      "∫₍₋ᵖⁱ/₂₎ᵖⁱ/² cos(x) dx = 2\n"
     ]
    }
   ],
   "execution_count": 7
  },
  {
   "metadata": {
    "ExecuteTime": {
     "end_time": "2025-05-24T12:30:06.582955Z",
     "start_time": "2025-05-24T12:30:06.575459Z"
    }
   },
   "cell_type": "code",
   "source": [
    "a = Symbol('a', positive=True)\n",
    "\n",
    "expr = x**2 + a\n",
    "integral_param = integrate(expr, (x, 0, 1))\n",
    "print(f\"∫₀¹ (x² + a) dx = {integral_param}\")"
   ],
   "id": "1e465d1aca2e049",
   "outputs": [
    {
     "name": "stdout",
     "output_type": "stream",
     "text": [
      "∫₀¹ (x² + a) dx = a + 1/3\n"
     ]
    }
   ],
   "execution_count": 8
  },
  {
   "metadata": {
    "ExecuteTime": {
     "end_time": "2025-05-24T12:30:06.677051Z",
     "start_time": "2025-05-24T12:30:06.624023Z"
    }
   },
   "cell_type": "code",
   "source": [
    "integral_exp = integrate(exp(-x**2), (x, 0, 1))\n",
    "print(f\"∫₀¹ e^(-x²) dx = {integral_exp}\")\n",
    "\n",
    "integral_rational = integrate(1/(1 + x**2), (x, 0, 1))\n",
    "print(f\"∫₀¹ 1/(1 + x²) dx = {integral_rational}\")"
   ],
   "id": "38a4efcce909e609",
   "outputs": [
    {
     "name": "stdout",
     "output_type": "stream",
     "text": [
      "∫₀¹ e^(-x²) dx = sqrt(pi)*erf(1)/2\n",
      "∫₀¹ 1/(1 + x²) dx = pi/4\n"
     ]
    }
   ],
   "execution_count": 9
  },
  {
   "metadata": {
    "ExecuteTime": {
     "end_time": "2025-05-24T12:30:06.749489Z",
     "start_time": "2025-05-24T12:30:06.687201Z"
    }
   },
   "cell_type": "code",
   "source": [
    "infinite_integral = integrate(exp(-x), (x, 0, oo))\n",
    "print(f\"∫₀^∞ e^(-x) dx = {infinite_integral}\")\n",
    "\n",
    "gaussian_integral = integrate(exp(-x**2), (x, -oo, oo))\n",
    "print(f\"∫₋∞^∞ e^(-x²) dx = {gaussian_integral}\")"
   ],
   "id": "8c4dcebdb446a31e",
   "outputs": [
    {
     "name": "stdout",
     "output_type": "stream",
     "text": [
      "∫₀^∞ e^(-x) dx = 1\n",
      "∫₋∞^∞ e^(-x²) dx = sqrt(pi)\n"
     ]
    }
   ],
   "execution_count": 10
  },
  {
   "metadata": {
    "ExecuteTime": {
     "end_time": "2025-05-24T12:30:06.769290Z",
     "start_time": "2025-05-24T12:30:06.762295Z"
    }
   },
   "cell_type": "code",
   "source": [
    "f = x**3 + 2*x\n",
    "\n",
    "F = integrate(f, x)\n",
    "\n",
    "definite_integral = integrate(f, (x, 0, 2))\n",
    "fundamental_theorem = F.subs(x, 2) - F.subs(x, 0)\n",
    "\n",
    "print(\"Через визначений інтеграл:\", definite_integral)\n",
    "print(\"Через первісну:\", fundamental_theorem)\n",
    "print(\"Рівні?\", simplify(definite_integral - fundamental_theorem) == 0)"
   ],
   "id": "55464dfd28431533",
   "outputs": [
    {
     "name": "stdout",
     "output_type": "stream",
     "text": [
      "Через визначений інтеграл: 8\n",
      "Через первісну: 8\n",
      "Рівні? True\n"
     ]
    }
   ],
   "execution_count": 11
  },
  {
   "metadata": {
    "ExecuteTime": {
     "end_time": "2025-05-24T12:30:06.837246Z",
     "start_time": "2025-05-24T12:30:06.815356Z"
    }
   },
   "cell_type": "code",
   "source": [
    "try:\n",
    "    integral_singularity = integrate(1/x, (x, -1, 1))\n",
    "    print(integral_singularity)\n",
    "except Exception as e:\n",
    "    print(\"Інтеграл не існує через розрив у точці x = 0\")\n",
    "\n",
    "improper_integral = integrate(1/x**2, (x, 1, oo))\n",
    "print(f\"∫₁^∞ 1/x² dx = {improper_integral}\")"
   ],
   "id": "97bccc8b621d0e45",
   "outputs": [
    {
     "name": "stdout",
     "output_type": "stream",
     "text": [
      "nan\n",
      "∫₁^∞ 1/x² dx = 1\n"
     ]
    }
   ],
   "execution_count": 12
  }
 ],
 "metadata": {
  "kernelspec": {
   "display_name": "Python 3",
   "language": "python",
   "name": "python3"
  },
  "language_info": {
   "codemirror_mode": {
    "name": "ipython",
    "version": 2
   },
   "file_extension": ".py",
   "mimetype": "text/x-python",
   "name": "python",
   "nbconvert_exporter": "python",
   "pygments_lexer": "ipython2",
   "version": "2.7.6"
  }
 },
 "nbformat": 4,
 "nbformat_minor": 5
}
