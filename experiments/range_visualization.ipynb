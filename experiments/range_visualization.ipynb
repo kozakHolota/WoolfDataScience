{
 "cells": [
  {
   "cell_type": "code",
   "execution_count": null,
   "id": "initial_id",
   "metadata": {
    "collapsed": true
   },
   "outputs": [],
   "source": [
    "import sympy as sp\n",
    "from sympy import symbols, plot\n",
    "import numpy as np"
   ]
  },
  {
   "metadata": {},
   "cell_type": "code",
   "outputs": [],
   "execution_count": null,
   "source": [
    "# Визначаємо символьну змінну\n",
    "x = symbols('x')\n",
    "\n",
    "# Створюємо функцію\n",
    "f = x**2 + 2*x - 1\n",
    "\n",
    "# Візуалізуємо функцію в діапазоні від -2 до 2\n",
    "plot(f, (x, -2, 2), title='f(x) = x² + 2x - 1 в діапазоні [-2, 2]')"
   ],
   "id": "156698867288525e"
  },
  {
   "metadata": {},
   "cell_type": "code",
   "outputs": [],
   "execution_count": null,
   "source": [
    "# Створюємо функцію\n",
    "f = sp.sin(x)\n",
    "\n",
    "# Візуалізуємо функцію в різних діапазонах\n",
    "p1 = plot(f, (x, 0, 2*sp.pi), show=False, line_color='blue', label='0 до 2π')\n",
    "p2 = plot(f, (x, -2*sp.pi, 0), show=False, line_color='red', label='-2π до 0')\n",
    "\n",
    "# Об'єднуємо графіки\n",
    "p1.extend(p2)\n",
    "p1.title = 'sin(x) у різних діапазонах'\n",
    "p1.show()"
   ],
   "id": "d219e31d64112a86"
  },
  {
   "metadata": {},
   "cell_type": "code",
   "outputs": [],
   "execution_count": null,
   "source": [
    "# Визначаємо складнішу функцію\n",
    "f = sp.exp(-x/3) * sp.sin(x)\n",
    "\n",
    "# Візуалізуємо з додатковими налаштуваннями\n",
    "plot(f, (x, 0, 4*sp.pi),\n",
    "     title='Затухаючі коливання',\n",
    "     xlabel='x',\n",
    "     ylabel='f(x)',\n",
    "     line_color='green',\n",
    "     markers=True,\n",
    "     axis_center=(0, 0))"
   ],
   "id": "1c8870bf36a69201"
  },
  {
   "metadata": {},
   "cell_type": "code",
   "outputs": [],
   "execution_count": null,
   "source": [
    "# Визначаємо кілька функцій\n",
    "f1 = sp.sin(x)\n",
    "f2 = sp.cos(x)\n",
    "f3 = sp.tan(x)\n",
    "\n",
    "# Візуалізуємо всі функції в одному діапазоні\n",
    "p = plot(f1, f2, f3,\n",
    "         (x, -sp.pi/2, sp.pi/2),\n",
    "         title='Тригонометричні функції',\n",
    "         legend=True,\n",
    "         show=False)\n",
    "\n",
    "# Додаємо легенду\n",
    "p[0].label = 'sin(x)'\n",
    "p[1].label = 'cos(x)'\n",
    "p[2].label = 'tan(x)'\n",
    "\n",
    "p.show()"
   ],
   "id": "af962cfa738e0a54"
  }
 ],
 "metadata": {
  "kernelspec": {
   "display_name": "Python 3",
   "language": "python",
   "name": "python3"
  },
  "language_info": {
   "codemirror_mode": {
    "name": "ipython",
    "version": 2
   },
   "file_extension": ".py",
   "mimetype": "text/x-python",
   "name": "python",
   "nbconvert_exporter": "python",
   "pygments_lexer": "ipython2",
   "version": "2.7.6"
  }
 },
 "nbformat": 4,
 "nbformat_minor": 5
}
